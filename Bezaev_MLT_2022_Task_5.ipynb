{
  "nbformat": 4,
  "nbformat_minor": 0,
  "metadata": {
    "colab": {
      "name": "Bezaev_Roman_J41321c_MLT_2022_Task_5.ipynb",
      "provenance": []
    },
    "kernelspec": {
      "name": "python3",
      "display_name": "Python 3"
    },
    "language_info": {
      "name": "python"
    },
    "accelerator": "GPU"
  },
  "cells": [
    {
      "cell_type": "code",
      "execution_count": null,
      "metadata": {
        "id": "GCEWcp6wAQGS"
      },
      "outputs": [],
      "source": [
        "import tensorflow as tf\n",
        "from keras.models import Sequential\n",
        "from keras.layers import Input, Activation, Dropout, Flatten, Dense, Conv2D, MaxPooling2D\n",
        "from keras.applications.vgg16 import VGG16\n",
        "from tensorflow.keras.optimizers import Adam\n",
        "from keras.preprocessing.image import ImageDataGenerator"
      ]
    },
    {
      "cell_type": "code",
      "source": [
        "from google.colab import drive\n",
        "drive.mount('/content/drive/')"
      ],
      "metadata": {
        "colab": {
          "base_uri": "https://localhost:8080/"
        },
        "id": "84zHvRSEAXbt",
        "outputId": "10cc1f7f-dece-471d-b691-bfbab18ee08c"
      },
      "execution_count": null,
      "outputs": [
        {
          "output_type": "stream",
          "name": "stdout",
          "text": [
            "Mounted at /content/drive/\n"
          ]
        }
      ]
    },
    {
      "cell_type": "code",
      "source": [
        "train = '/content/drive/MyDrive/Cats_and_Dogs/train'\n",
        "val =   '/content/drive/MyDrive/Cats_and_Dogs/val'\n",
        "test =  '/content/drive/MyDrive/Cats_and_Dogs/test'"
      ],
      "metadata": {
        "id": "pd7VFplsBe-L"
      },
      "execution_count": null,
      "outputs": []
    },
    {
      "cell_type": "code",
      "source": [
        "img_width, img_height, channels = 150, 150, 3\n",
        "input_shape = (img_width, img_height, channels)\n",
        "batch_size = 32"
      ],
      "metadata": {
        "id": "JJTR-sqNCI9D"
      },
      "execution_count": null,
      "outputs": []
    },
    {
      "cell_type": "code",
      "source": [
        "datagen = ImageDataGenerator(rescale=1. / 255)\n",
        "\n",
        "train_generator = datagen.flow_from_directory(\n",
        "    train,\n",
        "    target_size=(img_width, img_height),\n",
        "    batch_size=batch_size,\n",
        "    class_mode='binary')\n",
        "\n",
        "val_generator = datagen.flow_from_directory(\n",
        "    val,\n",
        "    target_size=(img_width, img_height),\n",
        "    batch_size=batch_size,\n",
        "    class_mode='binary')\n",
        "\n",
        "test_generator = datagen.flow_from_directory(\n",
        "    test,\n",
        "    target_size=(img_width, img_height),\n",
        "    batch_size=batch_size,\n",
        "    class_mode='binary')"
      ],
      "metadata": {
        "colab": {
          "base_uri": "https://localhost:8080/"
        },
        "id": "posqkn0dCgdS",
        "outputId": "00e823d6-614b-443a-d532-363dd054ddd2"
      },
      "execution_count": null,
      "outputs": [
        {
          "output_type": "stream",
          "name": "stdout",
          "text": [
            "Found 20000 images belonging to 2 classes.\n",
            "Found 2490 images belonging to 2 classes.\n",
            "Found 2500 images belonging to 2 classes.\n"
          ]
        }
      ]
    },
    {
      "cell_type": "code",
      "source": [
        "nb_train_samples = 20000 \n",
        "nb_validation_samples = 2490 \n",
        "nb_test_samples = 2500"
      ],
      "metadata": {
        "id": "Rltk32PACfzq"
      },
      "execution_count": null,
      "outputs": []
    },
    {
      "cell_type": "code",
      "source": [
        "model = Sequential()\n",
        "# Input layer\n",
        "model.add(Input(shape=(150,150,3), batch_size=32))\n",
        "\n",
        "# 1 layer\n",
        "model.add(Conv2D(16,(3,3), activation='relu'))\n",
        "model.add(MaxPooling2D(pool_size=(2,2)))\n",
        "\n",
        "# 2 layer\n",
        "model.add(Conv2D(32,(3,3), activation='relu'))\n",
        "model.add(MaxPooling2D(pool_size=(2,2)))\n",
        "\n",
        "# 3 layer\n",
        "model.add(Conv2D(64,(3,3), activation='relu'))\n",
        "model.add(MaxPooling2D(pool_size=(2,2)))\n",
        "\n",
        "# Flatten\n",
        "model.add(Flatten())\n",
        "\n",
        "# Dense layer\n",
        "model.add(Dense(64, activation='relu'))\n",
        "\n",
        "# Dropout\n",
        "model.add(Dropout(0.5))\n",
        "\n",
        "# Dense\n",
        "model.add(Dense(1, activation='sigmoid'))"
      ],
      "metadata": {
        "id": "eBsHTUtoC_46"
      },
      "execution_count": null,
      "outputs": []
    },
    {
      "cell_type": "code",
      "source": [
        "model.summary()"
      ],
      "metadata": {
        "colab": {
          "base_uri": "https://localhost:8080/"
        },
        "id": "l5Cr5Qe0VRvf",
        "outputId": "8f6ec823-db6d-4393-af17-f21e264e7734"
      },
      "execution_count": null,
      "outputs": [
        {
          "output_type": "stream",
          "name": "stdout",
          "text": [
            "Model: \"sequential_2\"\n",
            "_________________________________________________________________\n",
            " Layer (type)                Output Shape              Param #   \n",
            "=================================================================\n",
            " conv2d (Conv2D)             (32, 148, 148, 16)        448       \n",
            "                                                                 \n",
            " max_pooling2d (MaxPooling2D  (32, 74, 74, 16)         0         \n",
            " )                                                               \n",
            "                                                                 \n",
            " conv2d_1 (Conv2D)           (32, 72, 72, 32)          4640      \n",
            "                                                                 \n",
            " max_pooling2d_1 (MaxPooling  (32, 36, 36, 32)         0         \n",
            " 2D)                                                             \n",
            "                                                                 \n",
            " conv2d_2 (Conv2D)           (32, 34, 34, 64)          18496     \n",
            "                                                                 \n",
            " max_pooling2d_2 (MaxPooling  (32, 17, 17, 64)         0         \n",
            " 2D)                                                             \n",
            "                                                                 \n",
            " flatten (Flatten)           (32, 18496)               0         \n",
            "                                                                 \n",
            " dense (Dense)               (32, 64)                  1183808   \n",
            "                                                                 \n",
            " dropout (Dropout)           (32, 64)                  0         \n",
            "                                                                 \n",
            " dense_1 (Dense)             (32, 1)                   65        \n",
            "                                                                 \n",
            "=================================================================\n",
            "Total params: 1,207,457\n",
            "Trainable params: 1,207,457\n",
            "Non-trainable params: 0\n",
            "_________________________________________________________________\n"
          ]
        }
      ]
    },
    {
      "cell_type": "code",
      "source": [
        "model.compile(loss='binary_crossentropy',\n",
        "              optimizer='adam',\n",
        "              metrics=['accuracy'])"
      ],
      "metadata": {
        "id": "fGt6ME2kFKxU"
      },
      "execution_count": null,
      "outputs": []
    },
    {
      "cell_type": "code",
      "source": [
        "!nvidia-smi -L"
      ],
      "metadata": {
        "colab": {
          "base_uri": "https://localhost:8080/"
        },
        "id": "ab6BBH50G3CF",
        "outputId": "517cf7fc-df15-423b-c6c6-dcbb9672c4f1"
      },
      "execution_count": null,
      "outputs": [
        {
          "output_type": "stream",
          "name": "stdout",
          "text": [
            "GPU 0: Tesla K80 (UUID: GPU-e0326844-cebb-80b0-0418-8cfa85c662de)\n"
          ]
        }
      ]
    },
    {
      "cell_type": "code",
      "source": [
        "model.fit_generator(\n",
        "    train_generator,\n",
        "    steps_per_epoch=nb_train_samples // batch_size,\n",
        "    epochs=10,\n",
        "    validation_data=val_generator,\n",
        "    validation_steps=nb_validation_samples // batch_size)"
      ],
      "metadata": {
        "colab": {
          "base_uri": "https://localhost:8080/"
        },
        "id": "jUC0JroSFYzy",
        "outputId": "165509e1-b1cf-4756-b933-8c5fed4e66b0"
      },
      "execution_count": null,
      "outputs": [
        {
          "metadata": {
            "tags": null
          },
          "name": "stderr",
          "output_type": "stream",
          "text": [
            "/usr/local/lib/python3.7/dist-packages/ipykernel_launcher.py:6: UserWarning: `Model.fit_generator` is deprecated and will be removed in a future version. Please use `Model.fit`, which supports generators.\n",
            "  \n"
          ]
        },
        {
          "output_type": "stream",
          "name": "stdout",
          "text": [
            "Epoch 1/10\n",
            "625/625 [==============================] - 4827s 8s/step - loss: 0.6247 - accuracy: 0.6296 - val_loss: 0.5371 - val_accuracy: 0.7110\n",
            "Epoch 2/10\n",
            "625/625 [==============================] - 131s 210ms/step - loss: 0.5246 - accuracy: 0.7451 - val_loss: 0.4517 - val_accuracy: 0.7886\n",
            "Epoch 3/10\n",
            "625/625 [==============================] - 138s 221ms/step - loss: 0.4568 - accuracy: 0.7911 - val_loss: 0.4319 - val_accuracy: 0.7930\n",
            "Epoch 4/10\n",
            "625/625 [==============================] - 132s 211ms/step - loss: 0.4129 - accuracy: 0.8164 - val_loss: 0.4064 - val_accuracy: 0.8133\n",
            "Epoch 5/10\n",
            "625/625 [==============================] - 132s 211ms/step - loss: 0.3744 - accuracy: 0.8377 - val_loss: 0.3903 - val_accuracy: 0.8194\n",
            "Epoch 6/10\n",
            "625/625 [==============================] - 132s 211ms/step - loss: 0.3342 - accuracy: 0.8533 - val_loss: 0.4120 - val_accuracy: 0.8190\n",
            "Epoch 7/10\n",
            "625/625 [==============================] - 132s 212ms/step - loss: 0.2972 - accuracy: 0.8745 - val_loss: 0.3925 - val_accuracy: 0.8141\n",
            "Epoch 8/10\n",
            "625/625 [==============================] - 132s 211ms/step - loss: 0.2582 - accuracy: 0.8903 - val_loss: 0.4039 - val_accuracy: 0.8352\n",
            "Epoch 9/10\n",
            "625/625 [==============================] - 132s 211ms/step - loss: 0.2261 - accuracy: 0.9028 - val_loss: 0.3968 - val_accuracy: 0.8364\n",
            "Epoch 10/10\n",
            "625/625 [==============================] - 140s 223ms/step - loss: 0.1979 - accuracy: 0.9155 - val_loss: 0.4684 - val_accuracy: 0.8364\n"
          ]
        },
        {
          "output_type": "execute_result",
          "data": {
            "text/plain": [
              "<keras.callbacks.History at 0x7fc3e003ba50>"
            ]
          },
          "metadata": {},
          "execution_count": 15
        }
      ]
    },
    {
      "cell_type": "code",
      "source": [
        "scores = model.evaluate_generator(test_generator, nb_test_samples // batch_size)\n",
        "print(\"Accuracy on test data: %.2f%%\" % (scores[1]*100))"
      ],
      "metadata": {
        "id": "GwYIMB2tFvni",
        "colab": {
          "base_uri": "https://localhost:8080/"
        },
        "outputId": "db4bdd71-500c-4bda-c4f8-fc4b984e95a8"
      },
      "execution_count": null,
      "outputs": [
        {
          "output_type": "stream",
          "name": "stderr",
          "text": [
            "/usr/local/lib/python3.7/dist-packages/ipykernel_launcher.py:1: UserWarning: `Model.evaluate_generator` is deprecated and will be removed in a future version. Please use `Model.evaluate`, which supports generators.\n",
            "  \"\"\"Entry point for launching an IPython kernel.\n"
          ]
        },
        {
          "output_type": "stream",
          "name": "stdout",
          "text": [
            "Accuracy on test data: 83.21%\n"
          ]
        }
      ]
    },
    {
      "cell_type": "code",
      "source": [
        "loss = [0.6247, 0.5246, 0.4568, 0.4129, 0.3744, 0.3342, 0.2972, 0.2582, 0.2261, 0.1979]\n",
        "val_loss = [0.5371, 0.4517, 0.4319, 0.3903, 0.4120, 0.3925, 0.4039, 0.3968, 0.4684]\n",
        "acc = [0.6296, 0.7451, 0.7911, 0.8164, 0.8377, 0.8533, 0.8745, 0.8903, 0.9028, 0.9155]\n",
        "val_acc = [0.7110, 0.7886, 0.7930, 0.8133, 0.8194, 0.8190, 0.8141, 0.8352, 0.8364, 0.8364]"
      ],
      "metadata": {
        "id": "jvHOut8FyukG"
      },
      "execution_count": null,
      "outputs": []
    },
    {
      "cell_type": "code",
      "source": [
        "import matplotlib.pyplot as plt\n",
        "plt.plot(acc)\n",
        "plt.plot(val_acc)\n",
        "plt.title('model accuracy')\n",
        "plt.ylabel('accuracy')\n",
        "plt.xlabel('epoch')\n",
        "plt.ylim(0,1)\n",
        "plt.legend(['train', 'test'], loc='upper left')\n",
        "plt.show()\n",
        "# summarize history for loss\n",
        "plt.plot(loss)\n",
        "plt.plot(val_loss)\n",
        "plt.title('model loss')\n",
        "plt.ylabel('loss')\n",
        "plt.xlabel('epoch')\n",
        "plt.ylim(0,1)\n",
        "plt.legend(['train', 'test'], loc='upper left')\n",
        "plt.show()"
      ],
      "metadata": {
        "colab": {
          "base_uri": "https://localhost:8080/",
          "height": 572
        },
        "id": "4xjryc0zUEK8",
        "outputId": "05337825-059c-4af3-de20-f201037b65c4"
      },
      "execution_count": null,
      "outputs": [
        {
          "output_type": "display_data",
          "data": {
            "image/png": "[encoded data removed]",
            "text/plain": [
              "<Figure size 432x288 with 1 Axes>"
            ]
          },
          "metadata": {
            "needs_background": "light"
          }
        },
        {
          "output_type": "display_data",
          "data": {
            "image/png": "[encoded data removed]",
            "text/plain": [
              "<Figure size 432x288 with 1 Axes>"
            ]
          },
          "metadata": {
            "needs_background": "light"
          }
        }
      ]
    },
    {
      "cell_type": "markdown",
      "source": [
        "As we can see, model is a little bit overfitter, because accuracy on train is much better than accuracy on test"
      ],
      "metadata": {
        "id": "pglGfqMP0aYj"
      }
    },
    {
      "cell_type": "code",
      "source": [
        ""
      ],
      "metadata": {
        "id": "hjn9yv4PwwVA"
      },
      "execution_count": null,
      "outputs": []
    },
    {
      "cell_type": "code",
      "source": [
        "vgg16_net = VGG16(weights='imagenet', \n",
        "                  include_top=False,      # we take only the \"convolution\" part, the last layers we add ourselves\n",
        "                  input_shape=(150, 150, 3))\n",
        "vgg16_net.trainable = False               # clearly prescribe that we do NOT overload the network.\n",
        "                                          # Weights VGG16 in the process of learning will remain unchanged!\n",
        "\n",
        "vgg16_net.summary()         "
      ],
      "metadata": {
        "colab": {
          "base_uri": "https://localhost:8080/"
        },
        "id": "rtQ2-c0gx5Fe",
        "outputId": "4f89d948-6d1b-43c4-ce29-ac8ac7027349"
      },
      "execution_count": null,
      "outputs": [
        {
          "output_type": "stream",
          "name": "stdout",
          "text": [
            "Downloading data from https://storage.googleapis.com/tensorflow/keras-applications/vgg16/vgg16_weights_tf_dim_ordering_tf_kernels_notop.h5\n",
            "58892288/58889256 [==============================] - 1s 0us/step\n",
            "58900480/58889256 [==============================] - 1s 0us/step\n",
            "Model: \"vgg16\"\n",
            "_________________________________________________________________\n",
            " Layer (type)                Output Shape              Param #   \n",
            "=================================================================\n",
            " input_2 (InputLayer)        [(None, 150, 150, 3)]     0         \n",
            "                                                                 \n",
            " block1_conv1 (Conv2D)       (None, 150, 150, 64)      1792      \n",
            "                                                                 \n",
            " block1_conv2 (Conv2D)       (None, 150, 150, 64)      36928     \n",
            "                                                                 \n",
            " block1_pool (MaxPooling2D)  (None, 75, 75, 64)        0         \n",
            "                                                                 \n",
            " block2_conv1 (Conv2D)       (None, 75, 75, 128)       73856     \n",
            "                                                                 \n",
            " block2_conv2 (Conv2D)       (None, 75, 75, 128)       147584    \n",
            "                                                                 \n",
            " block2_pool (MaxPooling2D)  (None, 37, 37, 128)       0         \n",
            "                                                                 \n",
            " block3_conv1 (Conv2D)       (None, 37, 37, 256)       295168    \n",
            "                                                                 \n",
            " block3_conv2 (Conv2D)       (None, 37, 37, 256)       590080    \n",
            "                                                                 \n",
            " block3_conv3 (Conv2D)       (None, 37, 37, 256)       590080    \n",
            "                                                                 \n",
            " block3_pool (MaxPooling2D)  (None, 18, 18, 256)       0         \n",
            "                                                                 \n",
            " block4_conv1 (Conv2D)       (None, 18, 18, 512)       1180160   \n",
            "                                                                 \n",
            " block4_conv2 (Conv2D)       (None, 18, 18, 512)       2359808   \n",
            "                                                                 \n",
            " block4_conv3 (Conv2D)       (None, 18, 18, 512)       2359808   \n",
            "                                                                 \n",
            " block4_pool (MaxPooling2D)  (None, 9, 9, 512)         0         \n",
            "                                                                 \n",
            " block5_conv1 (Conv2D)       (None, 9, 9, 512)         2359808   \n",
            "                                                                 \n",
            " block5_conv2 (Conv2D)       (None, 9, 9, 512)         2359808   \n",
            "                                                                 \n",
            " block5_conv3 (Conv2D)       (None, 9, 9, 512)         2359808   \n",
            "                                                                 \n",
            " block5_pool (MaxPooling2D)  (None, 4, 4, 512)         0         \n",
            "                                                                 \n",
            "=================================================================\n",
            "Total params: 14,714,688\n",
            "Trainable params: 0\n",
            "Non-trainable params: 14,714,688\n",
            "_________________________________________________________________\n"
          ]
        }
      ]
    },
    {
      "cell_type": "code",
      "source": [
        "model = Sequential()\n",
        "model.add(vgg16_net)\n",
        "model.add(Flatten())\n",
        "model.add(Dense(256, activation='relu'))\n",
        "model.add(Dropout(0.5))\n",
        "model.add(Dense(1, activation='sigmoid'))\n",
        "\n",
        "\n",
        "model.summary()"
      ],
      "metadata": {
        "colab": {
          "base_uri": "https://localhost:8080/"
        },
        "id": "gNVAXDuABoke",
        "outputId": "e52e03cc-b92b-4420-bb09-ac87f787fb7f"
      },
      "execution_count": null,
      "outputs": [
        {
          "output_type": "stream",
          "name": "stdout",
          "text": [
            "Model: \"sequential_4\"\n",
            "_________________________________________________________________\n",
            " Layer (type)                Output Shape              Param #   \n",
            "=================================================================\n",
            " vgg16 (Functional)          (None, 4, 4, 512)         14714688  \n",
            "                                                                 \n",
            " flatten_2 (Flatten)         (None, 8192)              0         \n",
            "                                                                 \n",
            " dense_4 (Dense)             (None, 256)               2097408   \n",
            "                                                                 \n",
            " dropout_2 (Dropout)         (None, 256)               0         \n",
            "                                                                 \n",
            " dense_5 (Dense)             (None, 1)                 257       \n",
            "                                                                 \n",
            "=================================================================\n",
            "Total params: 16,812,353\n",
            "Trainable params: 2,097,665\n",
            "Non-trainable params: 14,714,688\n",
            "_________________________________________________________________\n"
          ]
        }
      ]
    },
    {
      "cell_type": "code",
      "source": [
        "model.compile(loss='binary_crossentropy',\n",
        "              optimizer=Adam(learning_rate=1e-5), \n",
        "              metrics=['accuracy'])"
      ],
      "metadata": {
        "id": "-uLkvb9aB-nA"
      },
      "execution_count": null,
      "outputs": []
    },
    {
      "cell_type": "code",
      "source": [
        "model.fit_generator(\n",
        "    train_generator,\n",
        "    steps_per_epoch=nb_train_samples // batch_size,\n",
        "    epochs=10,\n",
        "    validation_data=val_generator,\n",
        "    validation_steps=nb_validation_samples // batch_size)"
      ],
      "metadata": {
        "colab": {
          "base_uri": "https://localhost:8080/"
        },
        "id": "NNQ2lqrXCFju",
        "outputId": "f0037664-9f9a-4710-81e2-716f67909d23"
      },
      "execution_count": null,
      "outputs": [
        {
          "output_type": "stream",
          "name": "stderr",
          "text": [
            "/usr/local/lib/python3.7/dist-packages/ipykernel_launcher.py:6: UserWarning: `Model.fit_generator` is deprecated and will be removed in a future version. Please use `Model.fit`, which supports generators.\n",
            "  \n"
          ]
        },
        {
          "output_type": "stream",
          "name": "stdout",
          "text": [
            "Epoch 1/10\n",
            "625/625 [==============================] - 151s 241ms/step - loss: 0.4534 - accuracy: 0.7811 - val_loss: 0.3186 - val_accuracy: 0.8661\n",
            "Epoch 2/10\n",
            "625/625 [==============================] - 155s 247ms/step - loss: 0.3118 - accuracy: 0.8652 - val_loss: 0.2731 - val_accuracy: 0.8912\n",
            "Epoch 3/10\n",
            "625/625 [==============================] - 153s 245ms/step - loss: 0.2749 - accuracy: 0.8845 - val_loss: 0.2559 - val_accuracy: 0.8981\n",
            "Epoch 4/10\n",
            "625/625 [==============================] - 146s 233ms/step - loss: 0.2503 - accuracy: 0.8972 - val_loss: 0.2394 - val_accuracy: 0.9054\n",
            "Epoch 5/10\n",
            "625/625 [==============================] - 150s 240ms/step - loss: 0.2374 - accuracy: 0.9002 - val_loss: 0.2315 - val_accuracy: 0.9091\n",
            "Epoch 6/10\n",
            "625/625 [==============================] - 141s 225ms/step - loss: 0.2271 - accuracy: 0.9054 - val_loss: 0.2260 - val_accuracy: 0.9123\n",
            "Epoch 7/10\n",
            "625/625 [==============================] - 145s 231ms/step - loss: 0.2177 - accuracy: 0.9104 - val_loss: 0.2201 - val_accuracy: 0.9192\n",
            "Epoch 8/10\n",
            "625/625 [==============================] - 146s 234ms/step - loss: 0.2102 - accuracy: 0.9153 - val_loss: 0.2193 - val_accuracy: 0.9205\n",
            "Epoch 9/10\n",
            "625/625 [==============================] - 155s 248ms/step - loss: 0.2016 - accuracy: 0.9175 - val_loss: 0.2151 - val_accuracy: 0.9221\n",
            "Epoch 10/10\n",
            "625/625 [==============================] - 156s 250ms/step - loss: 0.1954 - accuracy: 0.9211 - val_loss: 0.2117 - val_accuracy: 0.9225\n"
          ]
        },
        {
          "output_type": "execute_result",
          "data": {
            "text/plain": [
              "<keras.callbacks.History at 0x7fc2fde9cc10>"
            ]
          },
          "metadata": {},
          "execution_count": 43
        }
      ]
    },
    {
      "cell_type": "code",
      "source": [
        "scores = model.evaluate_generator(test_generator, nb_test_samples // batch_size)\n",
        "print(\"Accuracy on test data: %.2f%%\" % (scores[1]*100))"
      ],
      "metadata": {
        "id": "dx-RY4NhCgA-",
        "colab": {
          "base_uri": "https://localhost:8080/"
        },
        "outputId": "82dd0929-2c2b-43b4-d39b-1e6483ba1578"
      },
      "execution_count": null,
      "outputs": [
        {
          "output_type": "stream",
          "name": "stderr",
          "text": [
            "/usr/local/lib/python3.7/dist-packages/ipykernel_launcher.py:1: UserWarning: `Model.evaluate_generator` is deprecated and will be removed in a future version. Please use `Model.evaluate`, which supports generators.\n",
            "  \"\"\"Entry point for launching an IPython kernel.\n"
          ]
        },
        {
          "output_type": "stream",
          "name": "stdout",
          "text": [
            "Accuracy on test data: 89.38%\n"
          ]
        }
      ]
    },
    {
      "cell_type": "code",
      "source": [
        "loss = [0.4534, 0.3118, 0.2749, 0.2503, 0.2374, 0.2271, 0.2177, 0.2102, 0.2016, 0.1954]\n",
        "val_loss = [0.3186, 0.2731, 0.2559, 0.2394, 0.2315, 0.2260, 0.2201, 0.2193, 0.2151, 0.2117]\n",
        "acc = [0.7811, 0.8652, 0.8845, 0.8972, 0.9002, 0.9054, 0.9104, 0.9153, 0.9175, 0.9211 ]\n",
        "val_acc =  [0.8661, 0.8912, 0.8981, 0.9054, 0.9104, 0.9123, 0.9192, 0.9205, 0.9221, 0.9225]"
      ],
      "metadata": {
        "id": "OY_nZyyrFmIA"
      },
      "execution_count": null,
      "outputs": []
    },
    {
      "cell_type": "code",
      "source": [
        "plt.plot(acc)\n",
        "plt.plot(val_acc)\n",
        "plt.title('model accuracy')\n",
        "plt.ylabel('accuracy')\n",
        "plt.xlabel('epoch')\n",
        "plt.ylim(0.7,1)\n",
        "plt.legend(['train', 'test'], loc='upper left')\n",
        "plt.show()\n",
        "\n",
        "# summarize history for loss\n",
        "plt.plot(loss)\n",
        "plt.plot(val_loss)\n",
        "plt.title('model loss')\n",
        "plt.ylabel('loss')\n",
        "plt.xlabel('epoch')\n",
        "plt.ylim(0,1)\n",
        "plt.legend(['train', 'test'], loc='upper left')\n",
        "plt.show()"
      ],
      "metadata": {
        "colab": {
          "base_uri": "https://localhost:8080/",
          "height": 572
        },
        "id": "3jPtLVCnOLPq",
        "outputId": "7d5dc264-5c90-4b4a-a9db-c831d973a7cf"
      },
      "execution_count": null,
      "outputs": [
        {
          "output_type": "display_data",
          "data": {
            "image/png": "[encoded data removed]",
            "text/plain": [
              "<Figure size 432x288 with 1 Axes>"
            ]
          },
          "metadata": {
            "needs_background": "light"
          }
        },
        {
          "output_type": "display_data",
          "data": {
            "image/png": "[encoded data removed]",
            "text/plain": [
              "<Figure size 432x288 with 1 Axes>"
            ]
          },
          "metadata": {
            "needs_background": "light"
          }
        }
      ]
    },
    {
      "cell_type": "markdown",
      "source": [
        "As we see, model is not overfitted, so probably we could make more training epochs to achieve better test accuracy. "
      ],
      "metadata": {
        "id": "yiiR2WWBOqx8"
      }
    }
  ]
}