{
 "cells": [
  {
   "cell_type": "code",
   "execution_count": 160,
   "id": "6dfaf809-eb22-4f3b-aaf5-839c72500e7b",
   "metadata": {},
   "outputs": [],
   "source": [
    "import pandas as pd\n",
    "import numpy as np\n",
    "import matplotlib.pyplot as plt\n",
    "import gensim\n",
    "import re\n",
    "import nltk\n",
    "from nltk.tokenize import TreebankWordTokenizer, WhitespaceTokenizer\n",
    "from nltk.corpus import stopwords\n",
    "from nltk.corpus import wordnet\n",
    "from nltk.stem import WordNetLemmatizer\n",
    "from nltk import FreqDist\n",
    "from sklearn.feature_extraction.text import TfidfVectorizer\n",
    "from collections import Counter\n",
    "from collections import defaultdict\n",
    "from typing import List"
   ]
  },
  {
   "cell_type": "code",
   "execution_count": 161,
   "id": "55ab38a7-9dc5-4d74-b72f-b54306ce0242",
   "metadata": {},
   "outputs": [],
   "source": [
    "def clean_text(text : str, alice=False) -> List:\n",
    "    text = text.lower() # lower case everything\n",
    "    text = re.sub(\"\\n\", \" \", text) # delete character of new line\n",
    "    text = re.sub('[^A-Za-z0-9 ]', ' ', text) # remove bad symbols\n",
    "    text = re.sub(r\"[^\\w\\s]\", \"\", text) # remove all symbol except letters and digits\n",
    "    if not alice:\n",
    "        text = re.sub(\"alice\", \"\", text)\n",
    "        \n",
    "    tokens = TreebankWordTokenizer().tokenize(text) # tokenizing\n",
    "    stop_words = stopwords.words(\"english\") \n",
    "    tokens = [token for token in tokens if token not in stop_words] # remove english stopwords \n",
    "    lemmatizer = WordNetLemmatizer()\n",
    "    tokens = [lemmatizer.lemmatize(token) for token in tokens] # lemmatize\n",
    "    text = \" \".join(tokens) # make a text of it\n",
    "    return text"
   ]
  },
  {
   "cell_type": "code",
   "execution_count": 162,
   "id": "c2911f83-2649-447a-a50b-8210b4e83b92",
   "metadata": {},
   "outputs": [],
   "source": [
    "# I pre deleted all text before 1 chapter and everything after the end of book (after the end of 12 chapter).\n",
    "with open('alice/alice.txt', encoding='utf8') as f:\n",
    "    text = f.read()\n",
    "\n",
    "# separate text by chapters\n",
    "chapters = [\n",
    "    \"CHAPTER I.\",\n",
    "    \"CHAPTER II.\",\n",
    "    \"CHAPTER III.\",\n",
    "    \"CHAPTER IV.\",\n",
    "    \"CHAPTER V.\",\n",
    "    \"CHAPTER VI.\",\n",
    "    \"CHAPTER VII.\",\n",
    "    \"CHAPTER VIII.\",\n",
    "    \"CHAPTER IX.\",\n",
    "    \"CHAPTER X.\",\n",
    "    \"CHAPTER XI.\",\n",
    "    \"CHAPTER XII.\",\n",
    "]"
   ]
  },
  {
   "cell_type": "code",
   "execution_count": 163,
   "id": "8f8692c5-ab66-4912-baf3-ccb8ab48160d",
   "metadata": {},
   "outputs": [],
   "source": [
    "text_by_chapters = {}\n",
    "# cutting text by names of chapters \n",
    "for curr, next in zip(chapters, chapters[1:]):\n",
    "    text_by_chapters[curr] = text[text.index(curr):text.index(next)][10:]\n",
    "text_by_chapters[chapters[-1]] = text[text.index(chapters[-1]):][10:]"
   ]
  },
  {
   "cell_type": "code",
   "execution_count": 164,
   "id": "a0e07d19-8cc5-4d12-9cc1-42330217cd85",
   "metadata": {},
   "outputs": [
    {
     "name": "stderr",
     "output_type": "stream",
     "text": [
      "[nltk_data] Downloading package wordnet to\n",
      "[nltk_data]     C:\\Users\\Роман\\AppData\\Roaming\\nltk_data...\n",
      "[nltk_data]   Package wordnet is already up-to-date!\n",
      "[nltk_data] Downloading package omw-1.4 to\n",
      "[nltk_data]     C:\\Users\\Роман\\AppData\\Roaming\\nltk_data...\n",
      "[nltk_data]   Package omw-1.4 is already up-to-date!\n",
      "[nltk_data] Downloading package stopwords to\n",
      "[nltk_data]     C:\\Users\\Роман\\AppData\\Roaming\\nltk_data...\n",
      "[nltk_data]   Package stopwords is already up-to-date!\n"
     ]
    },
    {
     "data": {
      "text/plain": [
       "{'CHAPTER I.': 'rabbit hole beginning get tired sitting sister bank nothing twice peeped book sister reading picture conversation use book thought without picture conversation considering mind well could hot day made feel sleepy stupid whether pleasure making daisy chain would worth trouble getting picking daisy suddenly white rabbit pink eye ran close nothing remarkable think much way hear rabbit say oh dear oh dear shall late thought afterwards occurred ought wondered time seemed quite natural rabbit actually took watch waistcoat pocket looked hurried started foot flashed across mind never seen rabbit either waistcoat pocket watch take burning curiosity ran across field fortunately time see pop large rabbit hole hedge another moment went never considering world get rabbit hole went straight like tunnel way dipped suddenly suddenly moment think stopping found falling deep well either well deep fell slowly plenty time went look wonder going happen next first tried look make coming dark see anything looked side well noticed filled cupboard book shelf saw map picture hung upon peg took jar one shelf passed labelled orange marmalade great disappointment empty like drop jar fear killing somebody underneath managed put one cupboard fell past well thought fall shall think nothing tumbling stair brave think home say anything even fell top house likely true would fall never come end wonder many mile fallen time said aloud must getting somewhere near centre earth let see would four thousand mile think see learnt several thing sort lesson schoolroom though good opportunity showing knowledge one listen still good practice say yes right distance wonder latitude longitude got idea latitude longitude either thought nice grand word say presently began wonder shall fall right earth funny seem come among people walk head downward antipathy think rather glad one listening time sound right word shall ask name country know please new zealand australia tried curtsey spoke fancy curtseying falling air think could manage ignorant little girl think asking never ask perhaps shall see written somewhere nothing else soon began talking dinah miss much night think dinah cat hope remember saucer milk tea time dinah dear wish mouse air afraid might catch bat like mouse know cat eat bat wonder began get rather sleepy went saying dreamy sort way cat eat bat cat eat bat sometimes bat eat cat see answer either question much matter way put felt dozing begun dream walking hand hand dinah saying earnestly dinah tell truth ever eat bat suddenly thump thump came upon heap stick dry leaf fall bit hurt jumped foot moment looked dark overhead another long passage white rabbit still sight hurrying moment lost away went like wind time hear say turned corner oh ear whisker late getting close behind turned corner rabbit longer seen found long low hall lit row lamp hanging roof door round hall locked way one side trying every door walked sadly middle wondering ever get suddenly came upon little three legged table made solid glass nothing except tiny golden key first thought might belong one door hall ala either lock large key small rate would open however second time round came upon low curtain noticed behind little door fifteen inch high tried little golden key lock great delight fitted opened door found led small passage much larger rat hole knelt looked along passage loveliest garden ever saw longed get dark hall wander among bed bright flower cool fountain could even get head doorway even head would go thought poor would little use without shoulder oh wish could shut like telescope think could knew begin see many way thing happened lately begun think thing indeed really impossible seemed use waiting little door went back table half hoping might find another key rate book rule shutting people like telescope time found little bottle certainly said round neck bottle paper label word drink beautifully printed large letter well say drink wise little going hurry look first said see whether marked poison read several nice little history child got burnt eaten wild beast unpleasant thing would remember simple rule friend taught red hot poker burn hold long cut finger deeply knife usually bleeds never forgotten drink much bottle marked poison almost certain disagree sooner later however bottle marked poison ventured taste finding nice fact sort mixed flavour cherry tart custard pine apple roast turkey toffee hot buttered toast soon finished curious feeling said must shutting like telescope indeed ten inch high face brightened thought right size going little door lovely garden first however waited minute see going shrink felt little nervous might end know said going altogether like candle wonder like tried fancy flame candle like candle blown could remember ever seen thing finding nothing happened decided going garden ala poor got door found forgotten little golden key went back table found could possibly reach could see quite plainly glass tried best climb one leg table slippery tired trying poor little thing sat cried come use cry like said rather sharply advise leave minute generally gave good advice though seldom followed sometimes scolded severely bring tear eye remembered trying box ear cheated game croquet playing curious child fond pretending two people use thought poor pretend two people hardly enough left make one respectable person soon eye fell little glass box lying table opened found small cake word eat beautifully marked currant well eat said make grow larger reach key make grow smaller creep door either way get garden care happens ate little bit said anxiously way way holding hand top head feel way growing quite surprised find remained size sure generally happens one eats cake got much way expecting nothing way thing happen seemed quite dull stupid life go common way set work soon finished cake',\n",
       " 'CHAPTER II.': 'pool tear curiouser curiouser cried much surprised moment quite forgot speak good english opening like largest telescope ever good bye foot looked foot seemed almost sight getting far oh poor little foot wonder put shoe stocking dear sure able shall great deal far trouble must manage best way must kind thought perhaps walk way want go let see give new pair boot every christmas went planning would manage must go carrier thought funny seem sending present one foot odd direction look right foot esq hearthrug near fender love oh dear nonsense talking head struck roof hall fact nine foot high took little golden key hurried garden door poor much could lying one side look garden one eye get hopeless ever sat began cry ought ashamed said great girl like might well say go cry way stop moment tell went shedding gallon tear large pool round four inch deep reaching half hall time heard little pattering foot distance hastily dried eye see coming white rabbit returning splendidly dressed pair white kid glove one hand large fan came trotting along great hurry muttering came oh duchess duchess oh savage kept waiting felt desperate ready ask help one rabbit came near began low timid voice please sir rabbit started violently dropped white kid glove fan skurried away darkness hard could go took fan glove hall hot kept fanning time went talking dear dear queer everything day yesterday thing went usual wonder changed night let think got morning almost think remember feeling little different next question world ah great puzzle began thinking child knew age see could changed sure ada said hair go long ringlet mine go ringlet sure mabel know sort thing oh know little besides oh dear puzzling try know thing used know let see four time five twelve four time six thirteen four time seven oh dear shall never get twenty rate however multiplication table signify let try geography london capital paris paris capital rome rome wrong certain must changed mabel try say doth little crossed hand lap saying lesson began repeat voice sounded hoarse strange word come used doth little crocodile improve shining tail pour water nile every golden scale cheerfully seems grin neatly spread claw welcome little fish gently smiling jaw sure right word said poor eye filled tear went must mabel shall go live poky little house next toy play oh ever many lesson learn made mind mabel stay use putting head saying come dear shall look say tell first like person come stay till somebody else oh dear cried sudden burst tear wish would put head tired alone said looked hand surprised see put one rabbit little white kid glove talking done thought must growing small got went table measure found nearly could guess two foot high going shrinking rapidly soon found cause fan holding dropped hastily time avoid shrinking away altogether narrow escape said good deal frightened sudden change glad find still existence garden ran speed back little door ala little door shut little golden key lying glass table thing worse ever thought poor child never small never declare bad said word foot slipped another moment splash chin salt water first idea somehow fallen sea case go back railway said seaside life come general conclusion wherever go english coast find number bathing machine sea child digging sand wooden spade row lodging house behind railway station however soon made pool tear wept nine foot high wish cried much said swam trying find way shall punished suppose drowned tear queer thing sure however everything queer day heard something splashing pool little way swam nearer make first thought must walrus hippopotamus remembered small soon made mouse slipped like would use thought speak mouse everything way think likely talk rate harm trying began mouse know way pool tired swimming mouse thought must right way speaking mouse never done thing remembered seen brother latin grammar mouse mouse mouse mouse mouse mouse looked rather inquisitively seemed wink one little eye said nothing perhaps understand english thought daresay french mouse come william conqueror knowledge history clear notion long ago anything happened began est chatte first sentence french lesson book mouse gave sudden leap water seemed quiver fright oh beg pardon cried hastily afraid hurt poor animal feeling quite forgot like cat like cat cried mouse shrill passionate voice would like cat well perhaps said soothing tone angry yet wish could show cat dinah think take fancy cat could see dear quiet thing went half swam lazily pool sits purring nicely fire licking paw washing face nice soft thing nurse capital one catching mouse oh beg pardon cried time mouse bristling felt certain must really offended talk rather indeed cried mouse trembling end tail would talk subject family always hated cat nasty low vulgar thing let hear name indeed said great hurry change subject conversation fond dog mouse answer went eagerly nice little dog near house like show little bright eyed terrier know oh long curly brown hair fetch thing throw sit beg dinner sort thing remember half belongs farmer know say useful worth hundred pound say kill rat oh dear cried sorrowful tone afraid offended mouse swimming away hard could go making quite commotion pool went called softly mouse dear come back talk cat dog either like mouse heard turned round swam slowly back face quite pale passion thought said low trembling voice let u get shore tell history understand hate cat dog high time go pool getting quite crowded bird animal fallen duck dodo lory eaglet several curious creature led way whole party swam shore',\n",
       " 'CHAPTER III.': 'caucus race long tale indeed queer looking party assembled bank bird draggled feather animal fur clinging close dripping wet cross uncomfortable first question course get dry consultation minute seemed quite natural find talking familiarly known life indeed quite long argument lory last turned sulky would say older must know better would allow without knowing old lory positively refused tell age said last mouse seemed person authority among called sit listen soon make dry enough sat large ring mouse middle kept eye anxiously fixed felt sure would catch bad cold get dry soon ahem said mouse important air ready driest thing know silence round please william conqueror whose cause favoured pope soon submitted english wanted leader late much accustomed usurpation conquest edwin morcar earl mercia northumbria ugh said lory shiver beg pardon said mouse frowning politely speak said lory hastily thought said mouse proceed edwin morcar earl mercia northumbria declared even stigand patriotic archbishop canterbury found advisable found said duck found mouse replied rather crossly course know mean know mean well enough find thing said duck generally frog worm question archbishop find mouse notice question hurriedly went found advisable go edgar atheling meet william offer crown william conduct first moderate insolence norman getting dear continued turning spoke wet ever said melancholy tone seem dry case said dodo solemnly rising foot move meeting adjourn immediate adoption energetic remedy speak english said eaglet know meaning half long word believe either eaglet bent head hide smile bird tittered audibly going say said dodo offended tone best thing get u dry would caucus race caucus race said wanted much know dodo paused thought somebody ought speak one else seemed inclined say anything said dodo best way explain might like try thing winter day tell dodo managed first marked race course sort circle exact shape matter said party placed along course one two three away began running liked left liked easy know race however running half hour quite dry dodo suddenly called race crowded round panting asking question dodo could answer without great deal thought sat long time one finger pressed upon forehead position usually see shakespeare picture rest waited silence last dodo said everybody must prize give prize quite chorus voice asked course said dodo pointing one finger whole party crowded round calling confused way prize prize idea despair put hand pocket pulled box comfit luckily salt water got handed round prize exactly one piece round must prize know said mouse course dodo replied gravely else got pocket went turning thimble said sadly hand said dodo crowded round dodo solemnly presented thimble saying beg acceptance elegant thimble finished short speech cheered thought whole thing absurd looked grave dare laugh could think anything say simply bowed took thimble looking solemn could next thing eat comfit caused noise confusion large bird complained could taste small one choked patted back however last sat ring begged mouse tell something promised tell history know said hate c added whisper half afraid would offended mine long sad tale said mouse turning sighing long tail certainly said looking wonder mouse tail call sad kept puzzling mouse speaking idea tale something like fury said mouse met house let u go law prosecute come take denial must trial really morning nothing said mouse cur trial dear sir jury judge would wasting breath judge jury said cunning old fury try whole cause condemn death attending said mouse severely thinking beg pardon said humbly got fifth bend think cried mouse sharply angrily knot said always ready make useful looking anxiously oh let help undo shall nothing sort said mouse getting walking away insult talking nonsense mean pleaded poor easily offended know mouse growled reply please come back finish story called others joined chorus yes please mouse shook head impatiently walked little quicker pity stay sighed lory soon quite sight old crab took opportunity saying daughter ah dear let lesson never lose temper hold tongue said young crab little snappishly enough try patience oyster wish dinah know said aloud addressing nobody particular soon fetch back dinah might venture ask question said lory replied eagerly always ready talk pet dinah cat capital one catching mouse think oh wish could see bird eat little bird soon look speech caused remarkable sensation among party bird hurried one old magpie began wrapping carefully remarking really must getting home night air suit throat canary called trembling voice child come away dear high time bed various pretext moved soon left alone wish mentioned dinah said melancholy tone nobody seems like sure best cat world oh dear dinah wonder shall ever see poor began cry felt lonely low spirited little however heard little pattering footstep distance looked eagerly half hoping mouse changed mind coming back finish story',\n",
       " 'CHAPTER IV.': 'rabbit sends little bill white rabbit trotting slowly back looking anxiously went lost something heard muttering duchess duchess oh dear paw oh fur whisker get executed sure ferret ferret dropped wonder guessed moment looking fan pair white kid glove good naturedly began hunting nowhere seen everything seemed changed since swim pool great hall glass table little door vanished completely soon rabbit noticed went hunting called angry tone mary ann run home moment fetch pair glove fan quick much frightened ran direction pointed without trying explain mistake made took housemaid said ran surprised find better take fan glove find said came upon neat little house door bright brass plate name w rabbit engraved upon went without knocking hurried upstairs great fear lest meet real mary ann turned house found fan glove queer seems said going message rabbit suppose dinah sending message next began fancying sort thing would happen miss come directly get ready walk coming minute nurse got see mouse get think went let dinah stop house began ordering people like time found way tidy little room table window hoped fan two three pair tiny white kid glove took fan pair glove going leave room eye fell upon little bottle stood near looking glass label time word drink nevertheless uncorked put lip know something interesting sure happen said whenever eat drink anything see bottle hope make grow large really quite tired tiny little thing indeed much sooner expected drunk half bottle found head pressing ceiling stoop save neck broken hastily put bottle saying quite enough hope grow get door wish drunk quite much ala late wish went growing growing soon kneel floor another minute even room tried effect lying one elbow door arm curled round head still went growing last resource put one arm window one foot chimney said whatever happens become luckily little magic bottle full effect grew larger still uncomfortable seemed sort chance ever getting room wonder felt unhappy much pleasanter home thought poor one always growing larger smaller ordered mouse rabbit almost wish gone rabbit hole yet yet rather curious know sort life wonder happened used read fairy tale fancied kind thing never happened middle one ought book written ought grow write one grown added sorrowful tone least room grow thought shall never get older comfort one way never old woman always lesson learn oh like oh foolish answered learn lesson hardly room room lesson book went taking first one side making quite conversation altogether minute heard voice outside stopped listen mary ann mary ann said voice fetch glove moment came little pattering foot stair knew rabbit coming look trembled till shook house quite forgetting thousand time large rabbit reason afraid presently rabbit came door tried open door opened inwards elbow pressed hard attempt proved failure heard say go round get window thought waiting till fancied heard rabbit window suddenly spread hand made snatch air get hold anything heard little shriek fall crash broken glass concluded possible fallen cucumber frame something sort next came angry voice rabbit pat pat voice never heard sure digging apple yer honour digging apple indeed said rabbit angrily come help sound broken glass tell pat window sure arm yer honour pronounced arrum arm goose ever saw one size fill whole window sure yer honour arm well got business rate go take away long silence could hear whisper sure like yer honour tell coward last spread hand made another snatch air time two little shriek sound broken glass number cucumber frame must thought wonder next pulling window wish could sure want stay longer waited time without hearing anything last came rumbling little cartwheel sound good many voice talking together made word ladder bring one bill got bill fetch lad put em corner tie em together first reach half high enough yet oh well enough particular bill catch hold rope roof bear mind loose slate oh coming head loud crash bill fancy go chimney nay bill go bill master say go chimney oh bill got come chimney said shy seem put everything upon bill bill place good deal fireplace narrow sure think kick little drew foot far chimney could waited till heard little animal guess sort scratching scrambling chimney close saying bill gave one sharp kick waited see would happen next first thing heard general chorus go bill rabbit voice along catch hedge silence another confusion voice hold head brandy choke old fellow happened tell u last came little feeble squeaking voice bill thought well hardly know thank ye better deal flustered tell know something come like jack box go like sky rocket old fellow said others must burn house said rabbit voice called loud could set dinah dead silence instantly thought wonder next sense take roof minute two began moving heard rabbit say barrowful begin barrowful thought long doubt next moment shower little pebble came rattling window hit face put stop said shouted better produced another dead silence noticed surprise pebble turning little cake lay floor bright idea came head eat one cake thought sure make change size possibly make larger must make smaller suppose swallowed one cake delighted find began shrinking directly soon small enough get door ran house found quite crowd little animal bird waiting outside poor little lizard bill middle held two guinea pig giving something bottle made rush moment appeared ran hard could soon found safe thick wood first thing got said wandered wood grow right size second thing find way lovely garden think best plan sounded excellent plan doubt neatly simply arranged difficulty smallest idea set peering anxiously among tree little sharp bark head made look great hurry enormous puppy looking large round eye feebly stretching one paw trying touch poor little thing said coaxing tone tried hard whistle terribly frightened time thought might hungry case would likely eat spite coaxing hardly knowing picked little bit stick held puppy whereupon puppy jumped air foot yelp delight rushed stick made believe worry dodged behind great thistle keep run moment appeared side puppy made another rush stick tumbled head heel hurry get hold thinking like game play cart horse expecting every moment trampled foot ran round thistle puppy began series short charge stick running little way forward time long way back barking hoarsely till last sat good way panting tongue hanging mouth great eye half shut seemed good opportunity making escape set ran till quite tired breath till puppy bark sounded quite faint distance yet dear little puppy said leant buttercup rest fanned one leaf liked teaching trick much right size oh dear nearly forgotten got grow let see managed suppose ought eat drink something great question great question certainly looked round flower blade grass see anything looked like right thing eat drink circumstance large mushroom growing near height looked side behind occurred might well look see top stretched tiptoe peeped edge mushroom eye immediately met large blue caterpillar sitting top arm folded quietly smoking long hookah taking smallest notice anything else',\n",
       " 'CHAPTER V.': 'advice caterpillar caterpillar looked time silence last caterpillar took hookah mouth addressed languid sleepy voice said caterpillar encouraging opening conversation replied rather shyly hardly know sir present least know got morning think must changed several time since mean said caterpillar sternly explain explain afraid sir said see see said caterpillar afraid put clearly replied politely understand begin many different size day confusing said caterpillar well perhaps found yet said turn chrysalis day know butterfly think feel little queer bit said caterpillar well perhaps feeling may different said know would feel queer said caterpillar contemptuously brought back beginning conversation felt little irritated caterpillar making short remark drew said gravely think ought tell first said caterpillar another puzzling question could think good reason caterpillar seemed unpleasant state mind turned away come back caterpillar called something important say sounded promising certainly turned came back keep temper said caterpillar said swallowing anger well could said caterpillar thought might well wait nothing else perhaps might tell something worth hearing minute puffed away without speaking last unfolded arm took hookah mouth said think changed afraid sir said remember thing used keep size ten minute together remember thing said caterpillar well tried say doth little busy bee came different replied melancholy voice repeat old father william said caterpillar folded hand began old father william young man said hair become white yet incessantly stand head think age right youth father william replied son feared might injure brain perfectly sure none old said youth mentioned grown uncommonly fat yet turned back somersault door pray reason youth said sage shook grey lock kept limb supple use ointment one shilling box allow sell couple old said youth jaw weak anything tougher suet yet finished goose bone beak pray manage youth said father took law argued case wife muscular strength gave jaw lasted rest life old said youth one would hardly suppose eye steady ever yet balanced eel end nose made awfully clever answered three question enough said father give air think listen day stuff kick stair said right said caterpillar quite right afraid said timidly word got altered wrong beginning end said caterpillar decidedly silence minute caterpillar first speak size want asked oh particular size hastily replied one like changing often know know said caterpillar said nothing never much contradicted life felt losing temper content said caterpillar well like little larger sir mind said three inch wretched height good height indeed said caterpillar angrily rearing upright spoke exactly three inch high used pleaded poor piteous tone thought wish creature easily offended get used time said caterpillar put hookah mouth began smoking time waited patiently chose speak minute two caterpillar took hookah mouth yawned twice shook got mushroom crawled away grass merely remarking went one side make grow taller side make grow shorter one side side thought mushroom said caterpillar asked aloud another moment sight remained looking thoughtfully mushroom minute trying make two side perfectly round found difficult question however last stretched arm round far would go broke bit edge hand said nibbled little right hand bit try effect next moment felt violent blow underneath chin struck foot good deal frightened sudden change felt time lost shrinking rapidly set work eat bit chin pressed closely foot hardly room open mouth last managed swallow morsel lefthand bit come head free last said tone delight changed alarm another moment found shoulder nowhere found could see looked immense length neck seemed rise like stalk sea green leaf lay far green stuff said shoulder got oh poor hand see moving spoke result seemed follow except little shaking among distant green leaf seemed chance getting hand head tried get head delighted find neck would bend easily direction like serpent succeeded curving graceful zigzag going dive among leaf found nothing top tree wandering sharp hiss made draw back hurry large pigeon flown face beating violently wing serpent screamed pigeon serpent said indignantly let alone serpent say repeated pigeon subdued tone added kind sob tried every way nothing seems suit least idea talking said tried root tree tried bank tried hedge pigeon went without attending serpent pleasing puzzled thought use saying anything till pigeon finished trouble enough hatching egg said pigeon must look serpent night day wink sleep three week sorry annoyed said beginning see meaning taken highest tree wood continued pigeon raising voice shriek thinking free last must need come wriggling sky ugh serpent serpent tell said well said pigeon see trying invent something little girl said rather doubtfully remembered number change gone day likely story indeed said pigeon tone deepest contempt seen good many little girl time never one neck serpent use denying suppose telling next never tasted egg tasted egg certainly said truthful child little girl eat egg quite much serpent know believe said pigeon kind serpent say new idea quite silent minute two gave pigeon opportunity adding looking egg know well enough matter whether little girl serpent matter good deal said hastily looking egg happens want like raw well said pigeon sulky tone settled nest crouched among tree well could neck kept getting entangled among branch every stop untwist remembered still held piece mushroom hand set work carefully nibbling first one growing sometimes taller sometimes shorter succeeded bringing usual height long since anything near right size felt quite strange first got used minute began talking usual come half plan done puzzling change never sure going one minute another however got back right size next thing get beautiful garden done wonder said came suddenly upon open place little house four foot high whoever life thought never come upon size frighten wit began nibbling righthand bit venture go near house till brought nine inch high',\n",
       " 'CHAPTER VI.': 'pig pepper minute two stood looking house wondering next suddenly footman livery came running wood considered footman livery otherwise judging face would called fish rapped loudly door knuckle opened another footman livery round face large eye like frog footman noticed powdered hair curled head felt curious know crept little way wood listen fish footman began producing arm great letter nearly large handed saying solemn tone duchess invitation queen play croquet frog footman repeated solemn tone changing order word little queen invitation duchess play croquet bowed low curl got entangled together laughed much run back wood fear hearing next peeped fish footman gone sitting ground near door staring stupidly sky went timidly door knocked sort use knocking said footman two reason first side door secondly making noise inside one could possibly hear certainly extraordinary noise going within constant howling sneezing every great crash dish kettle broken piece please said get might sense knocking footman went without attending door u instance inside might knock could let know looking sky time speaking thought decidedly uncivil perhaps help said eye nearly top head rate might answer question get repeated aloud shall sit footman remarked till tomorrow moment door house opened large plate came skimming straight footman head grazed nose broke piece one tree behind next day maybe footman continued tone exactly nothing happened get asked louder tone get said footman first question know doubt like told really dreadful muttered way creature argue enough drive one crazy footman seemed think good opportunity repeating remark variation shall sit said day day said anything like said footman began whistling oh use talking said desperately perfectly idiotic opened door went door led right large kitchen full smoke one end duchess sitting three legged stool middle nursing baby cook leaning fire stirring large cauldron seemed full soup certainly much pepper soup said well could sneezing certainly much air even duchess sneezed occasionally baby sneezing howling alternately without moment pause thing kitchen sneeze cook large cat sitting hearth grinning ear ear please would tell said little timidly quite sure whether good manner speak first cat grin like cheshire cat said duchess pig said last word sudden violence quite jumped saw another moment addressed baby took courage went know cheshire cat always grinned fact know cat could grin said duchess em know said politely feeling quite pleased got conversation know much said duchess fact like tone remark thought would well introduce subject conversation trying fix one cook took cauldron soup fire set work throwing everything within reach duchess baby fire iron came first followed shower saucepan plate dish duchess took notice even hit baby howling much already quite impossible say whether blow hurt oh please mind cried jumping agony terror oh go precious nose unusually large saucepan flew close nearly carried everybody minded business duchess said hoarse growl world would go round deal faster would advantage said felt glad get opportunity showing little knowledge think work would make day night see earth take twenty four hour turn round axis talking ax said duchess chop head glanced rather anxiously cook see meant take hint cook busily stirring soup seemed listening went twenty four hour think twelve oh bother said duchess never could abide figure began nursing child singing sort lullaby giving violent shake end every line speak roughly little boy beat sneeze annoy know tease chorus cook baby joined wow wow wow duchess sang second verse song kept tossing baby violently poor little thing howled could hardly hear word speak severely boy beat sneeze thoroughly enjoy pepper plea chorus wow wow wow may nurse bit like duchess said flinging baby spoke must go get ready play croquet queen hurried room cook threw frying pan went missed caught baby difficulty queer shaped little creature held arm leg direction like star fish thought poor little thing snorting like steam engine caught kept doubling straightening altogether first minute two much could hold soon made proper way nursing twist sort knot keep tight hold right ear left foot prevent undoing carried open air take child away thought sure kill day two murder leave behind said last word loud little thing grunted reply left sneezing time grunt said proper way expressing baby grunted looked anxiously face see matter could doubt turn nose much like snout real nose also eye getting extremely small baby altogether like look thing perhaps sobbing thought looked eye see tear tear going turn pig dear said seriously nothing mind poor little thing sobbed grunted impossible say went silence beginning think creature get home grunted violently looked face alarm time could mistake neither le pig felt would quite absurd carry set little creature felt quite relieved see trot away quietly wood grown said would made dreadfully ugly child make rather handsome pig think began thinking child knew might well pig saying one knew right way change little startled seeing cheshire cat sitting bough tree yard cat grinned saw looked good natured thought still long claw great many teeth felt ought treated respect cheshire pus began rather timidly know whether would like name however grinned little wider come pleased far thought went would tell please way ought go depends good deal want get said cat much care said matter way go said cat long get somewhere added explanation oh sure said cat walk long enough felt could denied tried another question sort people live direction cat said waving right paw round life hatter direction waving paw life march hare visit either like mad want go among mad people remarked oh help said cat mad mad mad know mad said must said cat come think proved however went know mad begin said cat dog mad grant suppose said well cat went see dog growl angry wag tail pleased growl pleased wag tail angry therefore mad call purring growling said call like said cat play croquet queen day like much said invited yet see said cat vanished much surprised getting used queer thing happening looking place suddenly appeared bye became baby said cat nearly forgotten ask turned pig quietly said come back natural way thought would said cat vanished waited little half expecting see appear minute two walked direction march hare said live seen hatter said march hare much interesting perhaps may raving mad least mad march said looked cat sitting branch tree say pig fig said cat said pig replied wish keep appearing vanishing suddenly make one quite giddy right said cat time vanished quite slowly beginning end tail ending grin remained time rest gone well often seen cat without grin thought grin without cat curious thing ever saw life gone much farther came sight house march hare thought must right house chimney shaped like ear roof thatched fur large house like go nearer till nibbled lefthand bit mushroom raised two foot high even walked towards rather timidly saying suppose raving mad almost wish gone see hatter instead',\n",
       " 'CHAPTER VII.': 'mad tea party table set tree front house march hare hatter tea dormouse sitting fast asleep two using cushion resting elbow talking head uncomfortable dormouse thought asleep suppose mind table large one three crowded together one corner room room cried saw coming plenty room said indignantly sat large arm chair one end table wine march hare said encouraging tone looked round table nothing tea see wine remarked said march hare civil offer said angrily civil sit without invited said march hare know table said laid great many three hair want cutting said hatter looking time great curiosity first speech learn make personal remark said severity rude hatter opened eye wide hearing said raven like writing desk come shall fun thought glad begun asking riddle believe guess added aloud mean think find answer said march hare exactly said say mean march hare went hastily replied least least mean say thing know thing bit said hatter might well say see eat thing eat see might well say added march hare like get thing get like might well say added dormouse seemed talking sleep breathe sleep thing sleep breathe thing said hatter conversation dropped party sat silent minute thought could remember raven writing desk much hatter first break silence day month said turning taken watch pocket looking uneasily shaking every holding ear considered little said fourth two day wrong sighed hatter told butter suit work added looking angrily march hare best butter march hare meekly replied yes crumb must got well hatter grumbled put bread knife march hare took watch looked gloomily dipped cup tea looked could think nothing better say first remark best butter know looking shoulder curiosity funny watch remarked tell day month tell clock muttered hatter watch tell year course replied readily stay year long time together case mine said hatter felt dreadfully puzzled hatter remark seemed sort meaning yet certainly english quite understand said politely could dormouse asleep said hatter poured little hot tea upon nose dormouse shook head impatiently said without opening eye course course going remark guessed riddle yet hatter said turning give replied answer slightest idea said hatter said march hare sighed wearily think might something better time said waste asking riddle answer knew time well said hatter talk wasting know mean said course hatter said tossing head contemptuously dare say never even spoke time perhaps cautiously replied know beat time learn music ah account said hatter stand beating kept good term almost anything liked clock instance suppose nine clock morning time begin lesson whisper hint time round go clock twinkling half past one time dinner wish march hare said whisper would grand certainly said thoughtfully hungry know first perhaps said hatter could keep half past one long liked way manage asked hatter shook head mournfully replied quarrelled last march went mad know pointing tea spoon march hare great concert given queen heart sing twinkle twinkle little bat wonder know song perhaps heard something like said go know hatter continued way world fly like tea tray sky twinkle twinkle dormouse shook began singing sleep twinkle twinkle twinkle twinkle went long pinch make stop well hardly finished first verse said hatter queen jumped bawled murdering time head dreadfully savage exclaimed ever since hatter went mournful tone thing ask always six clock bright idea came head reason many tea thing put asked yes said hatter sigh always tea time time wash thing while keep moving round suppose said exactly said hatter thing get used happens come beginning ventured ask suppose change subject march hare interrupted yawning getting tired vote young lady tell u story afraid know one said rather alarmed proposal dormouse shall cried wake dormouse pinched side dormouse slowly opened eye asleep said hoarse feeble voice heard every word fellow saying tell u story said march hare yes please pleaded quick added hatter asleep done upon time three little sister dormouse began great hurry name elsie lacie tillie lived bottom well live said always took great interest question eating drinking lived treacle said dormouse thinking minute two done know gently remarked ill said dormouse ill tried fancy extraordinary way living would like puzzled much went live bottom well take tea march hare said earnestly nothing yet replied offended tone take mean take le said hatter easy take nothing nobody asked opinion said making personal remark hatter asked triumphantly quite know say helped tea bread butter turned dormouse repeated question live bottom well dormouse took minute two think said treacle well thing beginning angrily hatter march hare went sh sh dormouse sulkily remarked civil better finish story please go said humbly interrupt dare say may one one indeed said dormouse indignantly however consented go three little sister learning draw know draw said quite forgetting promise treacle said dormouse without considering time want clean cup interrupted hatter let move one place moved spoke dormouse followed march hare moved dormouse place rather unwillingly took place march hare hatter one got advantage change good deal worse march hare upset milk jug plate wish offend dormouse began cautiously understand draw treacle draw water water well said hatter think could draw treacle treacle well eh stupid well said dormouse choosing notice last remark course said dormouse well answer confused poor let dormouse go time without interrupting learning draw dormouse went yawning rubbing eye getting sleepy drew manner thing everything begin said said march hare silent dormouse closed eye time going doze pinched hatter woke little shriek went begin mouse trap moon memory muchness know say thing much muchness ever see thing drawing muchness really ask said much confused think talk said hatter piece rudeness could bear got great disgust walked dormouse fell asleep instantly neither others took least notice going though looked back twice half hoping would call last time saw trying put dormouse teapot rate never go said picked way wood stupidest tea party ever life said noticed one tree door leading right curious thought everything curious today think may well go went found long hall close little glass table manage better time said began taking little golden key unlocking door led garden went work nibbling mushroom kept piece pocket till foot high walked little passage found last beautiful garden among bright flower bed cool fountain',\n",
       " 'CHAPTER VIII.': 'ii queen croquet ground large rose tree stood near entrance garden rose growing white three gardener busily painting red thought curious thing went nearer watch came heard one say look five go splashing paint like help said five sulky tone seven jogged elbow seven looked said right five always lay blame others better talk said five heard queen say yesterday deserved beheaded said one spoken first none business two said seven yes business said five tell bringing cook tulip root instead onion seven flung brush begun well unjust thing eye chanced fall upon stood watching checked suddenly others looked round also bowed low would tell said little timidly painting rose five seven said nothing looked two two began low voice fact see miss ought red rose tree put white one mistake queen find head cut know see miss best afore come moment five anxiously looking across garden called queen queen three gardener instantly threw flat upon face sound many footstep looked round eager see queen first came ten soldier carrying club shaped like three gardener oblong flat hand foot corner next ten courtier ornamented diamond walked two two soldier came royal child ten little dear came jumping merrily along hand hand couple ornamented heart next came guest mostly king queen among recognised white rabbit talking hurried nervous manner smiling everything said went without noticing followed knave heart carrying king crown crimson velvet cushion last grand procession came king queen heart rather doubtful whether ought lie face like three gardener could remember ever heard rule procession besides would use procession thought people lie upon face see stood still waited procession came opposite stopped looked queen said severely said knave heart bowed smiled reply idiot said queen tossing head impatiently turning went name child name please majesty said politely added pack card afraid said queen pointing three gardener lying round rose tree see lying face pattern back rest pack could tell whether gardener soldier courtier three child know said surprised courage business mine queen turned crimson fury glaring moment like wild beast screamed head nonsense said loudly decidedly queen silent king laid hand upon arm timidly said consider dear child queen turned angrily away said knave turn knave carefully one foot get said queen shrill loud voice three gardener instantly jumped began bowing king queen royal child everybody else leave screamed queen make giddy turning rose tree went may please majesty said two humble tone going one knee spoke trying see said queen meanwhile examining rose head procession moved three soldier remaining behind execute unfortunate gardener ran protection beheaded said put large flower pot stood near three soldier wandered minute two looking quietly marched others head shouted queen head gone please majesty soldier shouted reply right shouted queen play croquet soldier silent looked question evidently meant yes shouted come roared queen joined procession wondering much would happen next fine day said timid voice side walking white rabbit peeping anxiously face said duchess hush hush said rabbit low hurried tone looked anxiously shoulder spoke raised upon tiptoe put mouth close ear whispered sentence execution said say pity rabbit asked said think pity said boxed queen ear rabbit began gave little scream laughter oh hush rabbit whispered frightened tone queen hear see came rather late queen said get place shouted queen voice thunder people began running direction tumbling however got settled minute two game began thought never seen curious croquet ground life ridge furrow ball live hedgehog mallet live flamingo soldier double stand hand foot make arch chief difficulty found first managing flamingo succeeded getting body tucked away comfortably enough arm leg hanging generally got neck nicely straightened going give hedgehog blow head would twist round look face puzzled expression could help bursting laughing got head going begin provoking find hedgehog unrolled act crawling away besides generally ridge furrow way wherever wanted send hedgehog doubled soldier always getting walking part ground soon came conclusion difficult game indeed player played without waiting turn quarrelling fighting hedgehog short time queen furious passion went stamping shouting head head minute began feel uneasy sure yet dispute queen knew might happen minute thought would become dreadfully fond beheading people great wonder one left alive looking way escape wondering whether could get away without seen noticed curious appearance air puzzled much first watching minute two made grin said cheshire cat shall somebody talk getting said cat soon mouth enough speak waited till eye appeared nodded use speaking thought till ear come least one another minute whole head appeared put flamingo began account game feeling glad someone listen cat seemed think enough sight appeared think play fairly began rather complaining tone quarrel dreadfully one hear oneself speak seem rule particular least nobody attends idea confusing thing alive instance arch got go next walking end ground croqueted queen hedgehog ran away saw mine coming like queen said cat low voice said extremely noticed queen close behind listening went likely win hardly worth finishing game queen smiled passed talking said king going looking cat head great curiosity friend mine cheshire cat said allow introduce like look said king however may kiss hand like rather cat remarked impertinent said king look like got behind spoke cat may look king said read book remember well must removed said king decidedly called queen passing moment dear wish would cat removed queen one way settling difficulty great small head said without even looking round fetch executioner said king eagerly hurried thought might well go back see game going heard queen voice distance screaming passion already heard sentence three player executed missed turn like look thing game confusion never knew whether turn went search hedgehog hedgehog engaged fight another hedgehog seemed excellent opportunity croqueting one difficulty flamingo gone across side garden could see trying helpless sort way fly tree time caught flamingo brought back fight hedgehog sight matter much thought arch gone side ground tucked away arm might escape went back little conversation friend got back cheshire cat surprised find quite large crowd collected round dispute going executioner king queen talking rest quite silent looked uncomfortable moment appeared appealed three settle question repeated argument though spoke found hard indeed make exactly said executioner argument cut head unless body cut never thing going begin time life king argument anything head could beheaded talk nonsense queen argument something done le time everybody executed round last remark made whole party look grave anxious could think nothing else say belongs duchess better ask prison queen said executioner fetch executioner went like arrow cat head began fading away moment gone time come back duchess entirely disappeared king executioner ran wildly looking rest party went back game',\n",
       " 'CHAPTER IX.': 'mock turtle story think glad see dear old thing said duchess tucked arm affectionately walked together glad find pleasant temper thought perhaps pepper made savage met kitchen duchess said hopeful tone though pepper kitchen soup well without maybe always pepper make people hot tempered went much pleased found new kind rule vinegar make sour camomile make bitter barley sugar thing make child sweet tempered wish people knew stingy know quite forgotten duchess time little startled heard voice close ear thinking something dear make forget talk tell moral shall remember bit perhaps one ventured remark tut tut child said duchess everything got moral find squeezed closer side spoke much like keeping close first duchess ugly secondly exactly right height rest chin upon shoulder uncomfortably sharp chin however like rude bore well could game going rather better said way keeping conversation little ti said duchess moral oh ti love ti love make world go round somebody said whispered done everybody minding business ah well mean much thing said duchess digging sharp little chin shoulder added moral take care sense sound take care fond finding moral thing thought dare say wondering put arm round waist duchess said pause reason doubtful temper flamingo shall try experiment might bite cautiously replied feeling anxious experiment tried true said duchess flamingo mustard bite moral bird feather flock together mustard bird remarked right usual said duchess clear way putting thing mineral think said course said duchess seemed ready agree everything said large mustard mine near moral mine le oh know exclaimed attended last remark vegetable look like one quite agree said duchess moral would seem like put simply never imagine otherwise might appear others might otherwise would appeared otherwise think understand better said politely written quite follow say nothing could say chose duchess replied pleased tone pray trouble say longer said oh talk trouble said duchess make present everything said yet cheap sort present thought glad give birthday present like venture say loud thinking duchess asked another dig sharp little chin right think said sharply beginning feel little worried much right said duchess pig fly great surprise duchess voice died away even middle favourite word moral arm linked began tremble looked stood queen front arm folded frowning like thunderstorm fine day majesty duchess began low weak voice give fair warning shouted queen stamping ground spoke either head must half time take choice duchess took choice gone moment let go game queen said much frightened say word slowly followed back croquet ground guest taken advantage queen absence resting shade however moment saw hurried back game queen merely remarking moment delay would cost life time playing queen never left quarrelling player shouting head head sentenced taken custody soldier course leave arch end half hour arch left player except king queen custody sentence execution queen left quite breath said seen mock turtle yet said even know mock turtle thing mock turtle soup made said queen never saw one heard one said come said queen shall tell history walked together heard king say low voice company generally pardoned come good thing said felt quite unhappy number execution queen ordered soon came upon gryphon lying fast asleep sun know gryphon look picture lazy thing said queen take young lady see mock turtle hear history must go back see execution ordered walked leaving alone gryphon quite like look creature whole thought would quite safe stay go savage queen waited gryphon sat rubbed eye watched queen till sight chuckled fun said gryphon half half fun said said gryphon fancy never executes nobody know come everybody say come thought went slowly never ordered life never gone far saw mock turtle distance sitting sad lonely little ledge rock came nearer could hear sighing heart would break pitied deeply sorrow asked gryphon gryphon answered nearly word fancy got sorrow know come went mock turtle looked large eye full tear said nothing young lady said gryphon want know history tell said mock turtle deep hollow tone sit speak word till finished sat nobody spoke minute thought see ever finish begin waited patiently said mock turtle last deep sigh real turtle word followed long silence broken occasional exclamation hjckrrh gryphon constant heavy sobbing mock turtle nearly getting saying thank sir interesting story could help thinking must come sat still said nothing little mock turtle went last calmly though still sobbing little went school sea master old turtle used call tortoise call tortoise one asked called tortoise taught u said mock turtle angrily really dull ought ashamed asking simple question added gryphon sat silent looked poor felt ready sink earth last gryphon said mock turtle drive old fellow day went word yes went school sea though mayn believe never said interrupted said mock turtle hold tongue added gryphon could speak mock turtle went best education fact went school every day day school said proud extra asked mock turtle little anxiously yes said learned french music washing said mock turtle certainly said indignantly ah really good school said mock turtle tone great relief end bill french music washing extra wanted much said living bottom sea afford learn said mock turtle sigh took regular course inquired reeling writhing course begin mock turtle replied different branch arithmetic ambition distraction uglification derision never heard uglification ventured say gryphon lifted paw surprise never heard uglifying exclaimed know beautify suppose yes said doubtfully mean make anything prettier well gryphon went know uglify simpleton feel encouraged ask question turned mock turtle said else learn well mystery mock turtle replied counting subject flapper mystery ancient modern seaography drawling drawling master old conger eel used come week taught u drawling stretching fainting coil like said well show mock turtle said stiff gryphon never learnt time said gryphon went classic master though old crab never went mock turtle said sigh taught laughing grief used say said gryphon sighing turn creature hid face paw many hour day lesson said hurry change subject ten hour first day said mock turtle nine next curious plan exclaimed reason called lesson gryphon remarked lessen day day quite new idea thought little made next remark eleventh day must holiday course said mock turtle manage twelfth went eagerly enough lesson gryphon interrupted decided tone tell something game',\n",
       " 'CHAPTER X.': 'lobster quadrille mock turtle sighed deeply drew back one flapper across eye looked tried speak minute two sob choked voice bone throat said gryphon set work shaking punching back last mock turtle recovered voice tear running cheek went may lived much sea said perhaps never even introduced lobster began say tasted checked hastily said never idea delightful thing lobster quadrille indeed said sort dance said gryphon first form line along sea shore two line cried mock turtle seal turtle salmon cleared jelly fish way generally take time interrupted gryphon advance twice lobster partner cried gryphon course mock turtle said advance twice set partner change lobster retire order continued gryphon know mock turtle went throw lobster shouted gryphon bound air far sea swim screamed gryphon turn somersault sea cried mock turtle capering wildly change lobster yelled gryphon top voice back land first figure said mock turtle suddenly dropping voice two creature jumping like mad thing time sat sadly quietly looked must pretty dance said timidly would like see little said mock turtle much indeed said come let try first figure said mock turtle gryphon without lobster know shall sing oh sing said gryphon forgotten word began solemnly dancing round round every treading toe passed close waving forepaw mark time mock turtle sang slowly sadly walk little faster said whiting snail porpoise close behind u treading tail see eagerly lobster turtle advance waiting shingle come join dance join dance join dance really notion delightful take u throw u lobster sea snail replied far far gave look askance said thanked whiting kindly would join dance would could would could would join dance would could would could could join dance matter far go scaly friend replied another shore know upon side england nearer france turn pale beloved snail come join dance join dance join dance thank interesting dance watch said feeling glad last like curious song whiting oh whiting said mock turtle seen course yes said often seen dinn checked hastily know dinn may said mock turtle seen often course know like believe replied thoughtfully tail mouth crumb wrong crumb said mock turtle crumb would wash sea tail mouth reason mock turtle yawned shut eye tell reason said gryphon reason said gryphon would go lobster dance got thrown sea fall long way got tail fast mouth get thank said interesting never knew much whiting tell like said gryphon know called whiting never thought said boot shoe gryphon replied solemnly thoroughly puzzled boot shoe repeated wondering tone shoe done said gryphon mean make shiny looked considered little gave answer done blacking believe boot shoe sea gryphon went deep voice done whiting know made asked tone great curiosity sol eel course gryphon replied rather impatiently shrimp could told whiting said whose thought still running song said porpoise keep back please want u obliged mock turtle said wise fish would go anywhere without porpoise really said tone great surprise course said mock turtle fish came told going journey say porpoise mean purpose said mean say mock turtle replied offended tone gryphon added come let hear adventure could tell adventure beginning morning said little timidly use going back yesterday different person explain said mock turtle adventure first said gryphon impatient tone explanation take dreadful time began telling adventure time first saw white rabbit little nervous first two creature got close one side opened eye mouth wide gained courage went listener perfectly quiet till got part repeating old father william caterpillar word coming different mock turtle drew long breath said curious curious said gryphon came different mock turtle repeated thoughtfully like hear try repeat something tell begin looked gryphon thought kind authority stand repeat ti voice sluggard said gryphon creature order one make one repeat lesson thought might well school however got began repeat head full lobster quadrille hardly knew saying word came queer indeed ti voice lobster heard declare baked brown must sugar hair duck eyelid nose trim belt button turn toe later edition continued follows sand dry gay lark talk contemptuous tone shark tide rise shark around voice timid tremulous sound different used say child said gryphon well never heard said mock turtle sound uncommon nonsense said nothing sat face hand wondering anything would ever happen natural way like explained said mock turtle explain said gryphon hastily go next verse toe mock turtle persisted could turn nose know first position dancing said dreadfully puzzled whole thing longed change subject go next verse gryphon repeated impatiently begin passed garden dare disobey though felt sure would come wrong went trembling voice passed garden marked one eye owl panther sharing pie later edition continued follows panther took pie crust gravy meat owl dish share treat pie finished owl boon kindly permitted pocket spoon panther received knife fork growl concluded banquet use repeating stuff mock turtle interrupted explain go far confusing thing ever heard yes think better leave said gryphon glad shall try another figure lobster quadrille gryphon went would like mock turtle sing song oh song please mock turtle would kind replied eagerly gryphon said rather offended tone hm accounting taste sing turtle soup old fellow mock turtle sighed deeply began voice sometimes choked sob sing beautiful soup rich green waiting hot tureen dainty would stoop soup evening beautiful soup soup evening beautiful soup beau ootiful soo oop beau ootiful soo oop soo oop e e evening beautiful beautiful soup beautiful soup care fish game dish would give else two p ennyworth beautiful soup pennyworth beautiful soup beau ootiful soo oop beau ootiful soo oop soo oop e e evening beautiful beauti ful soup chorus cried gryphon mock turtle begun repeat cry trial beginning heard distance come cried gryphon taking hand hurried without waiting end song trial panted ran gryphon answered come ran faster faintly came carried breeze followed melancholy word soo oop e e evening beautiful beautiful soup',\n",
       " 'CHAPTER XI.': 'stole tart king queen heart seated throne arrived great crowd assembled sort little bird beast well whole pack card knave standing chain soldier side guard near king white rabbit trumpet one hand scroll parchment middle court table large dish tart upon looked good made quite hungry look wish get trial done thought hand round refreshment seemed chance began looking everything pas away time never court justice read book quite pleased find knew name nearly everything judge said great wig judge way king wore crown wig look frontispiece want see look comfortable certainly becoming jury box thought twelve creature obliged say creature see animal bird suppose juror said last word two three time rather proud thought rightly little girl age knew meaning however jury men would done well twelve juror writing busily slate whispered gryphon anything put yet trial begun putting name gryphon whispered reply fear forget end trial stupid thing began loud indignant voice stopped hastily white rabbit cried silence court king put spectacle looked anxiously round make talking could see well looking shoulder juror writing stupid thing slate could even make one know spell stupid ask neighbour tell nice muddle slate trial thought one juror pencil squeaked course could stand went round court got behind soon found opportunity taking away quickly poor little juror bill lizard could make become hunting obliged write one finger rest day little use left mark slate herald read accusation said king white rabbit blew three blast trumpet unrolled parchment scroll read follows queen heart made tart summer day knave heart stole tart took quite away consider verdict king said jury yet yet rabbit hastily interrupted great deal come call first witness said king white rabbit blew three blast trumpet called first witness first witness hatter came teacup one hand piece bread butter beg pardon majesty began bringing quite finished tea sent ought finished said king begin hatter looked march hare followed court arm arm dormouse fourteenth march think said fifteenth said march hare sixteenth added dormouse write king said jury jury eagerly wrote three date slate added reduced answer shilling penny take hat king said hatter mine said hatter stolen king exclaimed turning jury instantly made memorandum fact keep sell hatter added explanation none hatter queen put spectacle began staring hatter turned pale fidgeted give evidence said king nervous executed spot seem encourage witness kept shifting one foot looking uneasily queen confusion bit large piece teacup instead bread butter moment felt curious sensation puzzled good deal made beginning grow larger thought first would get leave court second thought decided remain long room wish squeeze said dormouse sitting next hardly breathe help said meekly growing right grow said dormouse talk nonsense said boldly know growing yes grow reasonable pace said dormouse ridiculous fashion got sulkily crossed side court time queen never left staring hatter dormouse crossed court said one officer court bring list singer last concert wretched hatter trembled shook shoe give evidence king repeated angrily executed whether nervous poor man majesty hatter began trembling voice begun tea week bread butter getting thin twinkling tea twinkling said king began tea hatter replied course twinkling begin said king sharply take dunce go poor man hatter went thing twinkled march hare said march hare interrupted great hurry said hatter deny said march hare denies said king leave part well rate dormouse said hatter went looking anxiously round see would deny dormouse denied nothing fast asleep continued hatter cut bread butter dormouse say one jury asked remember said hatter must remember remarked king executed miserable hatter dropped teacup bread butter went one knee poor man majesty began poor speaker said king one guinea pig cheered immediately suppressed officer court rather hard word explain done large canvas bag tied mouth string slipped guinea pig head first sat upon glad seen done thought often read newspaper end trial attempt applause immediately suppressed officer court never understood meant till know may stand continued king go lower said hatter floor may sit king replied guinea pig cheered suppressed come finished guinea pig thought shall get better rather finish tea said hatter anxious look queen reading list singer may go said king hatter hurriedly left court without even waiting put shoe take head outside queen added one officer hatter sight officer could get door call next witness said king next witness duchess cook carried pepper box hand guessed even got court way people near door began sneezing give evidence said king said cook king looked anxiously white rabbit said low voice majesty must cross examine witness well must must king said melancholy air folding arm frowning cook till eye nearly sight said deep voice tart made pepper mostly said cook treacle said sleepy voice behind collar dormouse queen shrieked behead dormouse turn dormouse court suppress pinch whisker minute whole court confusion getting dormouse turned time settled cook disappeared never mind said king air great relief call next witness added undertone queen really dear must cross examine next witness quite make forehead ache watched white rabbit fumbled list feeling curious see next witness would like got much evidence yet said imagine surprise white rabbit read top shrill little voice name',\n",
       " 'CHAPTER XII.': 'evidence cried quite forgetting flurry moment large grown last minute jumped hurry tipped jury box edge skirt upsetting juryman head crowd lay sprawling reminding much globe goldfish accidentally upset week oh beg pardon exclaimed tone great dismay began picking quickly could accident goldfish kept running head vague sort idea must collected put back jury box would die trial proceed said king grave voice juryman back proper place repeated great emphasis looking hard said looked jury box saw haste put lizard head downwards poor little thing waving tail melancholy way quite unable move soon got put right signifies much said think would quite much use trial one way soon jury little recovered shock upset slate pencil found handed back set work diligently write history accident except lizard seemed much overcome anything sit mouth open gazing roof court know business king said nothing said nothing whatever persisted king nothing whatever said important king said turning jury beginning write slate white rabbit interrupted un important majesty mean course said respectful tone frowning making face spoke un important course meant king hastily said went undertone important unimportant unimportant important trying word sounded best jury wrote important unimportant could see near enough look slate matter bit thought moment king time busily writing note book cackled silence read book rule forty two person mile high leave court everybody looked mile high said said king nearly two mile high added queen well go rate said besides regular rule invented oldest rule book said king ought number one said king turned pale shut note book hastily consider verdict said jury low trembling voice evidence come yet please majesty said white rabbit jumping great hurry paper picked said queen opened yet said white rabbit seems letter written prisoner somebody must said king unless written nobody usual know directed said one juryman directed said white rabbit fact nothing written outside unfolded paper spoke added letter set verse prisoner handwriting asked another juryman said white rabbit queerest thing jury looked puzzled must imitated somebody else hand said king jury brightened please majesty said knave write prove name signed end sign said king make matter worse must meant mischief else signed name like honest man general clapping hand first really clever thing king said day prof guilt said queen prof nothing sort said even know read said king white rabbit put spectacle shall begin please majesty asked begin beginning king said gravely go till come end stop verse white rabbit read told mentioned gave good character said could swim sent word gone know true push matter would become gave one gave two gave u three returned though mine chance involved affair trust set free exactly notion fit obstacle came let know liked best must ever secret kept rest important piece evidence heard yet said king rubbing hand let jury one explain said grown large last minute bit afraid interrupting give sixpence believe atom meaning jury wrote slate believe atom meaning none attempted explain paper meaning said king save world trouble know try find yet know went spreading verse knee looking one eye seem see meaning said could swim swim added turning knave knave shook head sadly look like said certainly made entirely cardboard right far said king went muttering verse know true jury course gave one gave two must tart know go returned said said king triumphantly pointing tart table nothing clearer fit never fit dear think said queen never said queen furiously throwing inkstand lizard spoke unfortunate little bill left writing slate one finger found made mark hastily began using ink trickling face long lasted word fit said king looking round court smile dead silence pun king added offended tone everybody laughed let jury consider verdict king said twentieth time day said queen sentence first verdict afterwards stuff nonsense said loudly idea sentence first hold tongue said queen turning purple said head queen shouted top voice nobody moved care said grown full size time nothing pack card whole pack rose air came flying upon gave little scream half fright half anger tried beat found lying bank head lap sister gently brushing away dead leaf fluttered tree upon face wake dear said sister long sleep oh curious dream said told sister well could remember strange adventure reading finished sister kissed said curious dream dear certainly run tea getting late got ran thinking ran well might wonderful dream sister sat still left leaning head hand watching setting sun thinking little wonderful adventure till began dreaming fashion dream first dreamed little tiny hand clasped upon knee bright eager eye looking could hear tone voice see queer little toss head keep back wandering hair would always get eye still listened seemed listen whole place around became alive strange creature little sister dream long grass rustled foot white rabbit hurried frightened mouse splashed way neighbouring pool could hear rattle teacup march hare friend shared never ending meal shrill voice queen ordering unfortunate guest execution pig baby sneezing duchess knee plate dish crashed around shriek gryphon squeaking lizard slate pencil choking suppressed guinea pig filled air mixed distant sob miserable mock turtle sat closed eye half believed wonderland though knew open would change dull reality grass would rustling wind pool rippling waving reed rattling teacup would change tinkling sheep bell queen shrill cry voice shepherd boy sneeze baby shriek gryphon queer noise would change knew confused clamour busy farm yard lowing cattle distance would take place mock turtle heavy sob lastly pictured little sister would time grown woman would keep riper year simple loving heart childhood would gather little child make eye bright eager many strange tale perhaps even dream wonderland long ago would feel simple sorrow find pleasure simple joy remembering child life happy summer day end'}"
      ]
     },
     "execution_count": 164,
     "metadata": {},
     "output_type": "execute_result"
    }
   ],
   "source": [
    "nltk.download('wordnet')\n",
    "nltk.download('omw-1.4')\n",
    "nltk.download('stopwords')\n",
    "clean_text_by_chap = {}\n",
    "for k, v in text_by_chapters.items():\n",
    "    clean_text_by_chap[k] = clean_text(v)\n",
    "    \n",
    "clean_text_by_chap"
   ]
  },
  {
   "cell_type": "code",
   "execution_count": 165,
   "id": "d20f83b6-24b9-4979-bf81-e7c24a2ca971",
   "metadata": {},
   "outputs": [],
   "source": [
    "# find top words by tf-idf\n",
    "tfidf = TfidfVectorizer()\n",
    "transformed_text = tfidf.fit_transform(clean_text_by_chap.values())"
   ]
  },
  {
   "cell_type": "code",
   "execution_count": 166,
   "id": "26f2df93-0669-4f19-a38c-2890e71767c3",
   "metadata": {},
   "outputs": [],
   "source": [
    "text_matrix = transformed_text.toarray()\n",
    "names = tfidf.get_feature_names_out()"
   ]
  },
  {
   "cell_type": "code",
   "execution_count": 177,
   "id": "55ef10e5-9447-4093-a02e-ce839716a80b",
   "metadata": {},
   "outputs": [],
   "source": [
    "def get_ranks(ranks, top):\n",
    "    # getting top ranks in line from array\n",
    "    idx = np.take(np.argpartition(ranks, range(-top, 0), axis=1), range(-1, -top-1, -1), axis=1)\n",
    "    return (idx, )[0]"
   ]
  },
  {
   "cell_type": "code",
   "execution_count": 178,
   "id": "031db3f8-2102-40fb-bc84-8f616ea92223",
   "metadata": {},
   "outputs": [
    {
     "data": {
      "text/plain": [
       "array([[1102,  129,  504, 1500, 1002, 2133,  555, 1089, 1939,  568],\n",
       "       [1216, 1419, 1102, 1296, 1897,  262,  447, 1611,  731, 1139],\n",
       "       [1611, 1216,  501, 1450, 1501, 1122,  541, 1936, 1023,  170],\n",
       "       [ 169, 1500, 1102, 2167, 1474,  799, 1301,  649,  192,  298],\n",
       "       [ 265, 1611, 1385, 1662, 2219,  566, 1745,  663, 1102, 2138],\n",
       "       [1611,  732,  262,  116, 1141,  542, 2197, 1089, 1384,  375],\n",
       "       [ 865,  506, 1611, 1156,  857, 1914, 2038, 1966, 2138, 1996],\n",
       "       [1489, 1611,  876, 1009,  777, 1780,  262, 1590,  703, 1452],\n",
       "       [2031, 1611, 1203,  835,  542, 1209, 1489, 2139, 1626, 1254],\n",
       "       [2031, 1203,  835, 1611, 1108,  436, 1803,  985,  139, 2154],\n",
       "       [1009,  865, 1611,  385,  506, 2177,  995, 1489,  994, 1294],\n",
       "       [1611, 1009,  995, 1489, 1738,  945,  524, 1750, 2196, 1500]],\n",
       "      dtype=int64)"
      ]
     },
     "execution_count": 178,
     "metadata": {},
     "output_type": "execute_result"
    }
   ],
   "source": [
    "ranks = get_ranks(text_matrix, 10)\n",
    "ranks"
   ]
  },
  {
   "cell_type": "code",
   "execution_count": 179,
   "id": "5366adad-2d13-4736-95cc-10c62fe3b735",
   "metadata": {},
   "outputs": [
    {
     "name": "stdout",
     "output_type": "stream",
     "text": [
      "Chapter N: 1\n",
      "     word     count\n",
      "0  little  0.170733\n",
      "1     bat  0.168434\n",
      "2    door  0.152175\n",
      "3  rabbit  0.152175\n",
      "4     key  0.148787\n",
      "5     way  0.147969\n",
      "6     eat  0.141280\n",
      "7    like  0.125204\n",
      "8   think  0.125204\n",
      "9  either  0.121097\n",
      "\n",
      "\n",
      "Chapter N: 2\n",
      "     word     count\n",
      "0   mouse  0.367720\n",
      "1    pool  0.188504\n",
      "2  little  0.183861\n",
      "3      oh  0.164087\n",
      "4    swam  0.155298\n",
      "5     cat  0.153422\n",
      "6    dear  0.150182\n",
      "7    said  0.129784\n",
      "8    foot  0.126221\n",
      "9   mabel  0.124238\n",
      "\n",
      "\n",
      "Chapter N: 3\n",
      "      word     count\n",
      "0     said  0.364689\n",
      "1    mouse  0.364687\n",
      "2     dodo  0.317451\n",
      "3    prize  0.184820\n",
      "4     race  0.184820\n",
      "5     lory  0.158726\n",
      "6      dry  0.140211\n",
      "7  thimble  0.123213\n",
      "8     know  0.117987\n",
      "9     bird  0.114117\n",
      "\n",
      "\n",
      "Chapter N: 4\n",
      "      word     count\n",
      "0     bill  0.245107\n",
      "1   rabbit  0.212795\n",
      "2   little  0.205918\n",
      "3   window  0.205689\n",
      "4    puppy  0.179978\n",
      "5    glove  0.154567\n",
      "6      one  0.134295\n",
      "7      fan  0.132486\n",
      "8   bottle  0.132486\n",
      "9  chimney  0.132486\n",
      "\n",
      "\n",
      "Chapter N: 5\n",
      "          word     count\n",
      "0  caterpillar  0.471528\n",
      "1         said  0.432862\n",
      "2       pigeon  0.286868\n",
      "3      serpent  0.286868\n",
      "4        youth  0.143434\n",
      "5          egg  0.143434\n",
      "6         size  0.113947\n",
      "7       father  0.102652\n",
      "8       little  0.091567\n",
      "9         well  0.083243\n",
      "\n",
      "\n",
      "Chapter N: 6\n",
      "      word     count\n",
      "0     said  0.363885\n",
      "1  footman  0.333513\n",
      "2      cat  0.329483\n",
      "3     baby  0.229140\n",
      "4      mad  0.202412\n",
      "5  duchess  0.161016\n",
      "6      wow  0.133405\n",
      "7     like  0.123876\n",
      "8      pig  0.123556\n",
      "9     cook  0.118074\n",
      "\n",
      "\n",
      "Chapter N: 7\n",
      "       word     count\n",
      "0    hatter  0.457365\n",
      "1  dormouse  0.423620\n",
      "2      said  0.375329\n",
      "3     march  0.273680\n",
      "4      hare  0.261240\n",
      "5       tea  0.149280\n",
      "6   twinkle  0.146152\n",
      "7      time  0.114507\n",
      "8      well  0.095423\n",
      "9   treacle  0.094138\n",
      "\n",
      "\n",
      "Chapter N: 8\n",
      "         word     count\n",
      "0       queen  0.457828\n",
      "1        said  0.328633\n",
      "2    hedgehog  0.219481\n",
      "3        king  0.209233\n",
      "4    gardener  0.175585\n",
      "5     soldier  0.149856\n",
      "6         cat  0.149070\n",
      "7        rose  0.131945\n",
      "8        five  0.131945\n",
      "9  procession  0.131689\n",
      "\n",
      "\n",
      "Chapter N: 9\n",
      "      word     count\n",
      "0   turtle  0.431776\n",
      "1     said  0.403448\n",
      "2     mock  0.400935\n",
      "3  gryphon  0.276823\n",
      "4  duchess  0.199775\n",
      "5    moral  0.182940\n",
      "6    queen  0.160434\n",
      "7     went  0.092014\n",
      "8   school  0.087284\n",
      "9    never  0.077858\n",
      "\n",
      "\n",
      "Chapter N: 10\n",
      "        word     count\n",
      "0     turtle  0.411834\n",
      "1       mock  0.371979\n",
      "2    gryphon  0.369653\n",
      "3       said  0.274400\n",
      "4    lobster  0.245163\n",
      "5      dance  0.227651\n",
      "6       soup  0.159420\n",
      "7       join  0.157605\n",
      "8  beautiful  0.146135\n",
      "9    whiting  0.140093\n",
      "\n",
      "\n",
      "Chapter N: 11\n",
      "       word     count\n",
      "0      king  0.402895\n",
      "1    hatter  0.362548\n",
      "2      said  0.316970\n",
      "3     court  0.293158\n",
      "4  dormouse  0.254070\n",
      "5   witness  0.227569\n",
      "6      jury  0.120849\n",
      "7     queen  0.115467\n",
      "8     juror  0.113784\n",
      "9   officer  0.113784\n",
      "\n",
      "\n",
      "Chapter N: 12\n",
      "        word     count\n",
      "0       said  0.456806\n",
      "1       king  0.385340\n",
      "2       jury  0.253684\n",
      "3      queen  0.145017\n",
      "4     sister  0.136599\n",
      "5  important  0.136599\n",
      "6      dream  0.132546\n",
      "7      slate  0.117085\n",
      "8      would  0.116441\n",
      "9     rabbit  0.106445\n",
      "\n",
      "\n"
     ]
    }
   ],
   "source": [
    "for i in range(12):\n",
    "    s = pd.DataFrame(\n",
    "    zip(names[ranks[i]], text_matrix[i][ranks[i]]), \n",
    "    columns=['word', 'count']\n",
    "    )\n",
    "    print(\"Chapter N:\", i+1)\n",
    "    print(s)\n",
    "    print('\\n')"
   ]
  },
  {
   "cell_type": "markdown",
   "id": "ed63dfef-a37a-40aa-948d-bbf3bd5ddcc1",
   "metadata": {},
   "source": [
    "- chapt 1: about some bat and rabbit who eating and some key\n",
    "- chapt 2: about little mouse swimming in the pool\n",
    "- chapt 3: about mouse names dodo winning some prize\n",
    "- chapt 4: about little rabbit and window\n",
    "- chapt 5: caterpillar, serpent and pigeon do something with egg\n",
    "- chapt 6: a lot of talking between cat and footman\n",
    "- chapt 7: hatter do something with hare and march\n",
    "- chapt 8: queen talking with hedgehog and king\n",
    "- chapt 9: turtle has a moral dilemma about mocking on duchess and gryphon  \n",
    "- chapt 10: same as in chapt 9 but tutrle mocking on lobster. also, some dancing\n",
    "- chapt 11: king and hatter have problems in court. dormhouse is a witness\n",
    "- chapt 12: king is talking a lot about queen, sister, white rabbit and his dreams"
   ]
  },
  {
   "cell_type": "code",
   "execution_count": 180,
   "id": "5b68076a-b83e-408e-a718-2debfa2eaaa7",
   "metadata": {},
   "outputs": [],
   "source": [
    "# splitting nouns, verbs etc\n",
    "def get_tag(word):\n",
    "    \"\"\"Map POS tag to first character lemmatize() accepts\"\"\"\n",
    "    tag = nltk.pos_tag([word])[0][1][0].upper()\n",
    "    tag_dict = {\"J\": wordnet.ADJ,\n",
    "                \"N\": wordnet.NOUN,\n",
    "                \"V\": wordnet.VERB,\n",
    "                \"R\": wordnet.ADV}\n",
    "    return tag"
   ]
  },
  {
   "cell_type": "code",
   "execution_count": 181,
   "id": "d686d6ab-24ce-4a68-b602-dea51ea5df3b",
   "metadata": {},
   "outputs": [
    {
     "name": "stderr",
     "output_type": "stream",
     "text": [
      "[nltk_data] Downloading package averaged_perceptron_tagger to\n",
      "[nltk_data]     C:\\Users\\Роман\\AppData\\Roaming\\nltk_data...\n",
      "[nltk_data]   Package averaged_perceptron_tagger is already up-to-\n",
      "[nltk_data]       date!\n"
     ]
    },
    {
     "data": {
      "text/plain": [
       "True"
      ]
     },
     "execution_count": 181,
     "metadata": {},
     "output_type": "execute_result"
    }
   ],
   "source": [
    "text_alice = {}\n",
    "for k, v in text_by_chapters.items():\n",
    "    text_alice[k] = clean_text(v, alice=False).split()\n",
    "\n",
    "\n",
    "nltk.download('averaged_perceptron_tagger')"
   ]
  },
  {
   "cell_type": "code",
   "execution_count": 182,
   "id": "446e5875-72df-41ea-8764-cdc06068716d",
   "metadata": {},
   "outputs": [],
   "source": [
    "# counting verbs. if tag is V -> it is a verb\n",
    "wc = defaultdict(lambda : 0)\n",
    "for k, v in text_alice.items():\n",
    "    for token in v:\n",
    "        tag = get_tag(token)\n",
    "        if tag == 'V':\n",
    "            wc[token] += 1"
   ]
  },
  {
   "cell_type": "code",
   "execution_count": 183,
   "id": "4c192e5a-5935-462b-88f1-ede2b2882bf5",
   "metadata": {},
   "outputs": [
    {
     "name": "stdout",
     "output_type": "stream",
     "text": [
      "TOP 10 verbs:\n",
      "said: 462\n",
      "know: 89\n",
      "went: 83\n",
      "see: 67\n",
      "began: 58\n",
      "go: 57\n",
      "say: 55\n",
      "come: 48\n",
      "get: 46\n",
      "looked: 45\n"
     ]
    }
   ],
   "source": [
    "print(\"TOP 10 verbs:\")\n",
    "for key, value in sorted(wc.items(), key=lambda item: item[1], reverse=True)[:10]:\n",
    "    print(\"%s: %s\" % (key, value))"
   ]
  },
  {
   "cell_type": "markdown",
   "id": "70b4b9b2-209e-4b63-beb2-43eba126c0f3",
   "metadata": {},
   "source": [
    "Usually, Alice do a lot of talking. Also, a lot of going and coming somewhere."
   ]
  }
 ],
 "metadata": {
  "kernelspec": {
   "display_name": "Python 3 (ipykernel)",
   "language": "python",
   "name": "python3"
  },
  "language_info": {
   "codemirror_mode": {
    "name": "ipython",
    "version": 3
   },
   "file_extension": ".py",
   "mimetype": "text/x-python",
   "name": "python",
   "nbconvert_exporter": "python",
   "pygments_lexer": "ipython3",
   "version": "3.9.9"
  }
 },
 "nbformat": 4,
 "nbformat_minor": 5
}
